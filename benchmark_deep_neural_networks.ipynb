{
  "nbformat": 4,
  "nbformat_minor": 0,
  "metadata": {
    "colab": {
      "name": "benchmark-deep-neural-networks.ipynb",
      "provenance": [],
      "collapsed_sections": [],
      "machine_shape": "hm",
      "authorship_tag": "ABX9TyN8e32lBgGsnkK8wuwgCxql",
      "include_colab_link": true
    },
    "kernelspec": {
      "name": "python3",
      "display_name": "Python 3"
    },
    "language_info": {
      "name": "python"
    },
    "accelerator": "GPU",
    "widgets": {
      "application/vnd.jupyter.widget-state+json": {
        "cbd8f190ca99403eb2e63889d2f987fe": {
          "model_module": "@jupyter-widgets/controls",
          "model_name": "HBoxModel",
          "model_module_version": "1.5.0",
          "state": {
            "_view_name": "HBoxView",
            "_dom_classes": [],
            "_model_name": "HBoxModel",
            "_view_module": "@jupyter-widgets/controls",
            "_model_module_version": "1.5.0",
            "_view_count": null,
            "_view_module_version": "1.5.0",
            "box_style": "",
            "layout": "IPY_MODEL_b03cde7ebfbb4ed1aa7599009d766037",
            "_model_module": "@jupyter-widgets/controls",
            "children": [
              "IPY_MODEL_693ea26688934cfaa81c7f98942458ce",
              "IPY_MODEL_9d70b9ed3df24e8fb0c54b432d510366",
              "IPY_MODEL_da3688576cbd40f4870ff748ac095184"
            ]
          }
        },
        "b03cde7ebfbb4ed1aa7599009d766037": {
          "model_module": "@jupyter-widgets/base",
          "model_name": "LayoutModel",
          "model_module_version": "1.2.0",
          "state": {
            "_view_name": "LayoutView",
            "grid_template_rows": null,
            "right": null,
            "justify_content": null,
            "_view_module": "@jupyter-widgets/base",
            "overflow": null,
            "_model_module_version": "1.2.0",
            "_view_count": null,
            "flex_flow": null,
            "width": null,
            "min_width": null,
            "border": null,
            "align_items": null,
            "bottom": null,
            "_model_module": "@jupyter-widgets/base",
            "top": null,
            "grid_column": null,
            "overflow_y": null,
            "overflow_x": null,
            "grid_auto_flow": null,
            "grid_area": null,
            "grid_template_columns": null,
            "flex": null,
            "_model_name": "LayoutModel",
            "justify_items": null,
            "grid_row": null,
            "max_height": null,
            "align_content": null,
            "visibility": null,
            "align_self": null,
            "height": null,
            "min_height": null,
            "padding": null,
            "grid_auto_rows": null,
            "grid_gap": null,
            "max_width": null,
            "order": null,
            "_view_module_version": "1.2.0",
            "grid_template_areas": null,
            "object_position": null,
            "object_fit": null,
            "grid_auto_columns": null,
            "margin": null,
            "display": null,
            "left": null
          }
        },
        "693ea26688934cfaa81c7f98942458ce": {
          "model_module": "@jupyter-widgets/controls",
          "model_name": "HTMLModel",
          "model_module_version": "1.5.0",
          "state": {
            "_view_name": "HTMLView",
            "style": "IPY_MODEL_50a6f91e629443a1882e0a5d7e9076b7",
            "_dom_classes": [],
            "description": "",
            "_model_name": "HTMLModel",
            "placeholder": "​",
            "_view_module": "@jupyter-widgets/controls",
            "_model_module_version": "1.5.0",
            "value": "Dl Completed...: 100%",
            "_view_count": null,
            "_view_module_version": "1.5.0",
            "description_tooltip": null,
            "_model_module": "@jupyter-widgets/controls",
            "layout": "IPY_MODEL_85d9b623fd9345d1aa748abb0d59f800"
          }
        },
        "9d70b9ed3df24e8fb0c54b432d510366": {
          "model_module": "@jupyter-widgets/controls",
          "model_name": "FloatProgressModel",
          "model_module_version": "1.5.0",
          "state": {
            "_view_name": "ProgressView",
            "style": "IPY_MODEL_082161c63d774d2ca23091c5ecd00b89",
            "_dom_classes": [],
            "description": "",
            "_model_name": "FloatProgressModel",
            "bar_style": "success",
            "max": 1,
            "_view_module": "@jupyter-widgets/controls",
            "_model_module_version": "1.5.0",
            "value": 1,
            "_view_count": null,
            "_view_module_version": "1.5.0",
            "orientation": "horizontal",
            "min": 0,
            "description_tooltip": null,
            "_model_module": "@jupyter-widgets/controls",
            "layout": "IPY_MODEL_3fc25c19e0fd4d198e4d17e0de9dc7fa"
          }
        },
        "da3688576cbd40f4870ff748ac095184": {
          "model_module": "@jupyter-widgets/controls",
          "model_name": "HTMLModel",
          "model_module_version": "1.5.0",
          "state": {
            "_view_name": "HTMLView",
            "style": "IPY_MODEL_19294416ae7c48fca0e774abeb11f6e8",
            "_dom_classes": [],
            "description": "",
            "_model_name": "HTMLModel",
            "placeholder": "​",
            "_view_module": "@jupyter-widgets/controls",
            "_model_module_version": "1.5.0",
            "value": " 1/1 [00:10&lt;00:00, 10.90s/ url]",
            "_view_count": null,
            "_view_module_version": "1.5.0",
            "description_tooltip": null,
            "_model_module": "@jupyter-widgets/controls",
            "layout": "IPY_MODEL_c936280136134eeb9c783ce11cef8c12"
          }
        },
        "50a6f91e629443a1882e0a5d7e9076b7": {
          "model_module": "@jupyter-widgets/controls",
          "model_name": "DescriptionStyleModel",
          "model_module_version": "1.5.0",
          "state": {
            "_view_name": "StyleView",
            "_model_name": "DescriptionStyleModel",
            "description_width": "",
            "_view_module": "@jupyter-widgets/base",
            "_model_module_version": "1.5.0",
            "_view_count": null,
            "_view_module_version": "1.2.0",
            "_model_module": "@jupyter-widgets/controls"
          }
        },
        "85d9b623fd9345d1aa748abb0d59f800": {
          "model_module": "@jupyter-widgets/base",
          "model_name": "LayoutModel",
          "model_module_version": "1.2.0",
          "state": {
            "_view_name": "LayoutView",
            "grid_template_rows": null,
            "right": null,
            "justify_content": null,
            "_view_module": "@jupyter-widgets/base",
            "overflow": null,
            "_model_module_version": "1.2.0",
            "_view_count": null,
            "flex_flow": null,
            "width": null,
            "min_width": null,
            "border": null,
            "align_items": null,
            "bottom": null,
            "_model_module": "@jupyter-widgets/base",
            "top": null,
            "grid_column": null,
            "overflow_y": null,
            "overflow_x": null,
            "grid_auto_flow": null,
            "grid_area": null,
            "grid_template_columns": null,
            "flex": null,
            "_model_name": "LayoutModel",
            "justify_items": null,
            "grid_row": null,
            "max_height": null,
            "align_content": null,
            "visibility": null,
            "align_self": null,
            "height": null,
            "min_height": null,
            "padding": null,
            "grid_auto_rows": null,
            "grid_gap": null,
            "max_width": null,
            "order": null,
            "_view_module_version": "1.2.0",
            "grid_template_areas": null,
            "object_position": null,
            "object_fit": null,
            "grid_auto_columns": null,
            "margin": null,
            "display": null,
            "left": null
          }
        },
        "082161c63d774d2ca23091c5ecd00b89": {
          "model_module": "@jupyter-widgets/controls",
          "model_name": "ProgressStyleModel",
          "model_module_version": "1.5.0",
          "state": {
            "_view_name": "StyleView",
            "_model_name": "ProgressStyleModel",
            "description_width": "",
            "_view_module": "@jupyter-widgets/base",
            "_model_module_version": "1.5.0",
            "_view_count": null,
            "_view_module_version": "1.2.0",
            "bar_color": null,
            "_model_module": "@jupyter-widgets/controls"
          }
        },
        "3fc25c19e0fd4d198e4d17e0de9dc7fa": {
          "model_module": "@jupyter-widgets/base",
          "model_name": "LayoutModel",
          "model_module_version": "1.2.0",
          "state": {
            "_view_name": "LayoutView",
            "grid_template_rows": null,
            "right": null,
            "justify_content": null,
            "_view_module": "@jupyter-widgets/base",
            "overflow": null,
            "_model_module_version": "1.2.0",
            "_view_count": null,
            "flex_flow": null,
            "width": "20px",
            "min_width": null,
            "border": null,
            "align_items": null,
            "bottom": null,
            "_model_module": "@jupyter-widgets/base",
            "top": null,
            "grid_column": null,
            "overflow_y": null,
            "overflow_x": null,
            "grid_auto_flow": null,
            "grid_area": null,
            "grid_template_columns": null,
            "flex": null,
            "_model_name": "LayoutModel",
            "justify_items": null,
            "grid_row": null,
            "max_height": null,
            "align_content": null,
            "visibility": null,
            "align_self": null,
            "height": null,
            "min_height": null,
            "padding": null,
            "grid_auto_rows": null,
            "grid_gap": null,
            "max_width": null,
            "order": null,
            "_view_module_version": "1.2.0",
            "grid_template_areas": null,
            "object_position": null,
            "object_fit": null,
            "grid_auto_columns": null,
            "margin": null,
            "display": null,
            "left": null
          }
        },
        "19294416ae7c48fca0e774abeb11f6e8": {
          "model_module": "@jupyter-widgets/controls",
          "model_name": "DescriptionStyleModel",
          "model_module_version": "1.5.0",
          "state": {
            "_view_name": "StyleView",
            "_model_name": "DescriptionStyleModel",
            "description_width": "",
            "_view_module": "@jupyter-widgets/base",
            "_model_module_version": "1.5.0",
            "_view_count": null,
            "_view_module_version": "1.2.0",
            "_model_module": "@jupyter-widgets/controls"
          }
        },
        "c936280136134eeb9c783ce11cef8c12": {
          "model_module": "@jupyter-widgets/base",
          "model_name": "LayoutModel",
          "model_module_version": "1.2.0",
          "state": {
            "_view_name": "LayoutView",
            "grid_template_rows": null,
            "right": null,
            "justify_content": null,
            "_view_module": "@jupyter-widgets/base",
            "overflow": null,
            "_model_module_version": "1.2.0",
            "_view_count": null,
            "flex_flow": null,
            "width": null,
            "min_width": null,
            "border": null,
            "align_items": null,
            "bottom": null,
            "_model_module": "@jupyter-widgets/base",
            "top": null,
            "grid_column": null,
            "overflow_y": null,
            "overflow_x": null,
            "grid_auto_flow": null,
            "grid_area": null,
            "grid_template_columns": null,
            "flex": null,
            "_model_name": "LayoutModel",
            "justify_items": null,
            "grid_row": null,
            "max_height": null,
            "align_content": null,
            "visibility": null,
            "align_self": null,
            "height": null,
            "min_height": null,
            "padding": null,
            "grid_auto_rows": null,
            "grid_gap": null,
            "max_width": null,
            "order": null,
            "_view_module_version": "1.2.0",
            "grid_template_areas": null,
            "object_position": null,
            "object_fit": null,
            "grid_auto_columns": null,
            "margin": null,
            "display": null,
            "left": null
          }
        },
        "0ecd0e926280464d89ee9d892cbe63f6": {
          "model_module": "@jupyter-widgets/controls",
          "model_name": "HBoxModel",
          "model_module_version": "1.5.0",
          "state": {
            "_view_name": "HBoxView",
            "_dom_classes": [],
            "_model_name": "HBoxModel",
            "_view_module": "@jupyter-widgets/controls",
            "_model_module_version": "1.5.0",
            "_view_count": null,
            "_view_module_version": "1.5.0",
            "box_style": "",
            "layout": "IPY_MODEL_286405cd486d46ea8916323df3115849",
            "_model_module": "@jupyter-widgets/controls",
            "children": [
              "IPY_MODEL_dd36e5d71516405d9a868bc0fcfd025f",
              "IPY_MODEL_15a587d5606b4fc3a05483b773d48886",
              "IPY_MODEL_68ff0f9230f3497892774eed654fad44"
            ]
          }
        },
        "286405cd486d46ea8916323df3115849": {
          "model_module": "@jupyter-widgets/base",
          "model_name": "LayoutModel",
          "model_module_version": "1.2.0",
          "state": {
            "_view_name": "LayoutView",
            "grid_template_rows": null,
            "right": null,
            "justify_content": null,
            "_view_module": "@jupyter-widgets/base",
            "overflow": null,
            "_model_module_version": "1.2.0",
            "_view_count": null,
            "flex_flow": null,
            "width": null,
            "min_width": null,
            "border": null,
            "align_items": null,
            "bottom": null,
            "_model_module": "@jupyter-widgets/base",
            "top": null,
            "grid_column": null,
            "overflow_y": null,
            "overflow_x": null,
            "grid_auto_flow": null,
            "grid_area": null,
            "grid_template_columns": null,
            "flex": null,
            "_model_name": "LayoutModel",
            "justify_items": null,
            "grid_row": null,
            "max_height": null,
            "align_content": null,
            "visibility": null,
            "align_self": null,
            "height": null,
            "min_height": null,
            "padding": null,
            "grid_auto_rows": null,
            "grid_gap": null,
            "max_width": null,
            "order": null,
            "_view_module_version": "1.2.0",
            "grid_template_areas": null,
            "object_position": null,
            "object_fit": null,
            "grid_auto_columns": null,
            "margin": null,
            "display": null,
            "left": null
          }
        },
        "dd36e5d71516405d9a868bc0fcfd025f": {
          "model_module": "@jupyter-widgets/controls",
          "model_name": "HTMLModel",
          "model_module_version": "1.5.0",
          "state": {
            "_view_name": "HTMLView",
            "style": "IPY_MODEL_3dc5646997c04dfbafb478c73d9728e3",
            "_dom_classes": [],
            "description": "",
            "_model_name": "HTMLModel",
            "placeholder": "​",
            "_view_module": "@jupyter-widgets/controls",
            "_model_module_version": "1.5.0",
            "value": "Dl Size...: 100%",
            "_view_count": null,
            "_view_module_version": "1.5.0",
            "description_tooltip": null,
            "_model_module": "@jupyter-widgets/controls",
            "layout": "IPY_MODEL_e5d15304199c4ca89e3ac1016d621891"
          }
        },
        "15a587d5606b4fc3a05483b773d48886": {
          "model_module": "@jupyter-widgets/controls",
          "model_name": "FloatProgressModel",
          "model_module_version": "1.5.0",
          "state": {
            "_view_name": "ProgressView",
            "style": "IPY_MODEL_8914b3135f574e4eb58e83226bd5aede",
            "_dom_classes": [],
            "description": "",
            "_model_name": "FloatProgressModel",
            "bar_style": "success",
            "max": 1,
            "_view_module": "@jupyter-widgets/controls",
            "_model_module_version": "1.5.0",
            "value": 1,
            "_view_count": null,
            "_view_module_version": "1.5.0",
            "orientation": "horizontal",
            "min": 0,
            "description_tooltip": null,
            "_model_module": "@jupyter-widgets/controls",
            "layout": "IPY_MODEL_e637949739024717afbc4cf8f8afd3ed"
          }
        },
        "68ff0f9230f3497892774eed654fad44": {
          "model_module": "@jupyter-widgets/controls",
          "model_name": "HTMLModel",
          "model_module_version": "1.5.0",
          "state": {
            "_view_name": "HTMLView",
            "style": "IPY_MODEL_26cda0b63ee242e99de4861f504e097e",
            "_dom_classes": [],
            "description": "",
            "_model_name": "HTMLModel",
            "placeholder": "​",
            "_view_module": "@jupyter-widgets/controls",
            "_model_module_version": "1.5.0",
            "value": " 786/786 [00:10&lt;00:00, 75.74 MiB/s]",
            "_view_count": null,
            "_view_module_version": "1.5.0",
            "description_tooltip": null,
            "_model_module": "@jupyter-widgets/controls",
            "layout": "IPY_MODEL_f2e6a62c27274aeebfe0f574e57488b5"
          }
        },
        "3dc5646997c04dfbafb478c73d9728e3": {
          "model_module": "@jupyter-widgets/controls",
          "model_name": "DescriptionStyleModel",
          "model_module_version": "1.5.0",
          "state": {
            "_view_name": "StyleView",
            "_model_name": "DescriptionStyleModel",
            "description_width": "",
            "_view_module": "@jupyter-widgets/base",
            "_model_module_version": "1.5.0",
            "_view_count": null,
            "_view_module_version": "1.2.0",
            "_model_module": "@jupyter-widgets/controls"
          }
        },
        "e5d15304199c4ca89e3ac1016d621891": {
          "model_module": "@jupyter-widgets/base",
          "model_name": "LayoutModel",
          "model_module_version": "1.2.0",
          "state": {
            "_view_name": "LayoutView",
            "grid_template_rows": null,
            "right": null,
            "justify_content": null,
            "_view_module": "@jupyter-widgets/base",
            "overflow": null,
            "_model_module_version": "1.2.0",
            "_view_count": null,
            "flex_flow": null,
            "width": null,
            "min_width": null,
            "border": null,
            "align_items": null,
            "bottom": null,
            "_model_module": "@jupyter-widgets/base",
            "top": null,
            "grid_column": null,
            "overflow_y": null,
            "overflow_x": null,
            "grid_auto_flow": null,
            "grid_area": null,
            "grid_template_columns": null,
            "flex": null,
            "_model_name": "LayoutModel",
            "justify_items": null,
            "grid_row": null,
            "max_height": null,
            "align_content": null,
            "visibility": null,
            "align_self": null,
            "height": null,
            "min_height": null,
            "padding": null,
            "grid_auto_rows": null,
            "grid_gap": null,
            "max_width": null,
            "order": null,
            "_view_module_version": "1.2.0",
            "grid_template_areas": null,
            "object_position": null,
            "object_fit": null,
            "grid_auto_columns": null,
            "margin": null,
            "display": null,
            "left": null
          }
        },
        "8914b3135f574e4eb58e83226bd5aede": {
          "model_module": "@jupyter-widgets/controls",
          "model_name": "ProgressStyleModel",
          "model_module_version": "1.5.0",
          "state": {
            "_view_name": "StyleView",
            "_model_name": "ProgressStyleModel",
            "description_width": "",
            "_view_module": "@jupyter-widgets/base",
            "_model_module_version": "1.5.0",
            "_view_count": null,
            "_view_module_version": "1.2.0",
            "bar_color": null,
            "_model_module": "@jupyter-widgets/controls"
          }
        },
        "e637949739024717afbc4cf8f8afd3ed": {
          "model_module": "@jupyter-widgets/base",
          "model_name": "LayoutModel",
          "model_module_version": "1.2.0",
          "state": {
            "_view_name": "LayoutView",
            "grid_template_rows": null,
            "right": null,
            "justify_content": null,
            "_view_module": "@jupyter-widgets/base",
            "overflow": null,
            "_model_module_version": "1.2.0",
            "_view_count": null,
            "flex_flow": null,
            "width": "20px",
            "min_width": null,
            "border": null,
            "align_items": null,
            "bottom": null,
            "_model_module": "@jupyter-widgets/base",
            "top": null,
            "grid_column": null,
            "overflow_y": null,
            "overflow_x": null,
            "grid_auto_flow": null,
            "grid_area": null,
            "grid_template_columns": null,
            "flex": null,
            "_model_name": "LayoutModel",
            "justify_items": null,
            "grid_row": null,
            "max_height": null,
            "align_content": null,
            "visibility": null,
            "align_self": null,
            "height": null,
            "min_height": null,
            "padding": null,
            "grid_auto_rows": null,
            "grid_gap": null,
            "max_width": null,
            "order": null,
            "_view_module_version": "1.2.0",
            "grid_template_areas": null,
            "object_position": null,
            "object_fit": null,
            "grid_auto_columns": null,
            "margin": null,
            "display": null,
            "left": null
          }
        },
        "26cda0b63ee242e99de4861f504e097e": {
          "model_module": "@jupyter-widgets/controls",
          "model_name": "DescriptionStyleModel",
          "model_module_version": "1.5.0",
          "state": {
            "_view_name": "StyleView",
            "_model_name": "DescriptionStyleModel",
            "description_width": "",
            "_view_module": "@jupyter-widgets/base",
            "_model_module_version": "1.5.0",
            "_view_count": null,
            "_view_module_version": "1.2.0",
            "_model_module": "@jupyter-widgets/controls"
          }
        },
        "f2e6a62c27274aeebfe0f574e57488b5": {
          "model_module": "@jupyter-widgets/base",
          "model_name": "LayoutModel",
          "model_module_version": "1.2.0",
          "state": {
            "_view_name": "LayoutView",
            "grid_template_rows": null,
            "right": null,
            "justify_content": null,
            "_view_module": "@jupyter-widgets/base",
            "overflow": null,
            "_model_module_version": "1.2.0",
            "_view_count": null,
            "flex_flow": null,
            "width": null,
            "min_width": null,
            "border": null,
            "align_items": null,
            "bottom": null,
            "_model_module": "@jupyter-widgets/base",
            "top": null,
            "grid_column": null,
            "overflow_y": null,
            "overflow_x": null,
            "grid_auto_flow": null,
            "grid_area": null,
            "grid_template_columns": null,
            "flex": null,
            "_model_name": "LayoutModel",
            "justify_items": null,
            "grid_row": null,
            "max_height": null,
            "align_content": null,
            "visibility": null,
            "align_self": null,
            "height": null,
            "min_height": null,
            "padding": null,
            "grid_auto_rows": null,
            "grid_gap": null,
            "max_width": null,
            "order": null,
            "_view_module_version": "1.2.0",
            "grid_template_areas": null,
            "object_position": null,
            "object_fit": null,
            "grid_auto_columns": null,
            "margin": null,
            "display": null,
            "left": null
          }
        },
        "919e74feaf0946a094abad8d9e8e3da8": {
          "model_module": "@jupyter-widgets/controls",
          "model_name": "HBoxModel",
          "model_module_version": "1.5.0",
          "state": {
            "_view_name": "HBoxView",
            "_dom_classes": [],
            "_model_name": "HBoxModel",
            "_view_module": "@jupyter-widgets/controls",
            "_model_module_version": "1.5.0",
            "_view_count": null,
            "_view_module_version": "1.5.0",
            "box_style": "",
            "layout": "IPY_MODEL_7e1254c6115245f59289a5e74aa4c373",
            "_model_module": "@jupyter-widgets/controls",
            "children": [
              "IPY_MODEL_643dd39f1af14c7d8101741b87da1180",
              "IPY_MODEL_2b459451da7f4d138f976dc3b12bb220",
              "IPY_MODEL_3b27f50691bb4659884f189f393d3185"
            ]
          }
        },
        "7e1254c6115245f59289a5e74aa4c373": {
          "model_module": "@jupyter-widgets/base",
          "model_name": "LayoutModel",
          "model_module_version": "1.2.0",
          "state": {
            "_view_name": "LayoutView",
            "grid_template_rows": null,
            "right": null,
            "justify_content": null,
            "_view_module": "@jupyter-widgets/base",
            "overflow": null,
            "_model_module_version": "1.2.0",
            "_view_count": null,
            "flex_flow": null,
            "width": null,
            "min_width": null,
            "border": null,
            "align_items": null,
            "bottom": null,
            "_model_module": "@jupyter-widgets/base",
            "top": null,
            "grid_column": null,
            "overflow_y": null,
            "overflow_x": null,
            "grid_auto_flow": null,
            "grid_area": null,
            "grid_template_columns": null,
            "flex": null,
            "_model_name": "LayoutModel",
            "justify_items": null,
            "grid_row": null,
            "max_height": null,
            "align_content": null,
            "visibility": null,
            "align_self": null,
            "height": null,
            "min_height": null,
            "padding": null,
            "grid_auto_rows": null,
            "grid_gap": null,
            "max_width": null,
            "order": null,
            "_view_module_version": "1.2.0",
            "grid_template_areas": null,
            "object_position": null,
            "object_fit": null,
            "grid_auto_columns": null,
            "margin": null,
            "display": null,
            "left": null
          }
        },
        "643dd39f1af14c7d8101741b87da1180": {
          "model_module": "@jupyter-widgets/controls",
          "model_name": "HTMLModel",
          "model_module_version": "1.5.0",
          "state": {
            "_view_name": "HTMLView",
            "style": "IPY_MODEL_e7580d66ed674352a1fe59d322de26ac",
            "_dom_classes": [],
            "description": "",
            "_model_name": "HTMLModel",
            "placeholder": "​",
            "_view_module": "@jupyter-widgets/controls",
            "_model_module_version": "1.5.0",
            "value": "",
            "_view_count": null,
            "_view_module_version": "1.5.0",
            "description_tooltip": null,
            "_model_module": "@jupyter-widgets/controls",
            "layout": "IPY_MODEL_be0ae9bdcf1b4dad95a81543231e0266"
          }
        },
        "2b459451da7f4d138f976dc3b12bb220": {
          "model_module": "@jupyter-widgets/controls",
          "model_name": "FloatProgressModel",
          "model_module_version": "1.5.0",
          "state": {
            "_view_name": "ProgressView",
            "style": "IPY_MODEL_69970c0462884574af114acd434dadc4",
            "_dom_classes": [],
            "description": "",
            "_model_name": "FloatProgressModel",
            "bar_style": "info",
            "max": 1,
            "_view_module": "@jupyter-widgets/controls",
            "_model_module_version": "1.5.0",
            "value": 1,
            "_view_count": null,
            "_view_module_version": "1.5.0",
            "orientation": "horizontal",
            "min": 0,
            "description_tooltip": null,
            "_model_module": "@jupyter-widgets/controls",
            "layout": "IPY_MODEL_91f54166dfa648e5be06b817f31738df"
          }
        },
        "3b27f50691bb4659884f189f393d3185": {
          "model_module": "@jupyter-widgets/controls",
          "model_name": "HTMLModel",
          "model_module_version": "1.5.0",
          "state": {
            "_view_name": "HTMLView",
            "style": "IPY_MODEL_637e58dee75c4a08bca625cd28e268c9",
            "_dom_classes": [],
            "description": "",
            "_model_name": "HTMLModel",
            "placeholder": "​",
            "_view_module": "@jupyter-widgets/controls",
            "_model_module_version": "1.5.0",
            "value": " 23239/0 [00:12&lt;00:00, 1946.08 examples/s]",
            "_view_count": null,
            "_view_module_version": "1.5.0",
            "description_tooltip": null,
            "_model_module": "@jupyter-widgets/controls",
            "layout": "IPY_MODEL_751e7d3662a74b38b51275da9b9874ab"
          }
        },
        "e7580d66ed674352a1fe59d322de26ac": {
          "model_module": "@jupyter-widgets/controls",
          "model_name": "DescriptionStyleModel",
          "model_module_version": "1.5.0",
          "state": {
            "_view_name": "StyleView",
            "_model_name": "DescriptionStyleModel",
            "description_width": "",
            "_view_module": "@jupyter-widgets/base",
            "_model_module_version": "1.5.0",
            "_view_count": null,
            "_view_module_version": "1.2.0",
            "_model_module": "@jupyter-widgets/controls"
          }
        },
        "be0ae9bdcf1b4dad95a81543231e0266": {
          "model_module": "@jupyter-widgets/base",
          "model_name": "LayoutModel",
          "model_module_version": "1.2.0",
          "state": {
            "_view_name": "LayoutView",
            "grid_template_rows": null,
            "right": null,
            "justify_content": null,
            "_view_module": "@jupyter-widgets/base",
            "overflow": null,
            "_model_module_version": "1.2.0",
            "_view_count": null,
            "flex_flow": null,
            "width": null,
            "min_width": null,
            "border": null,
            "align_items": null,
            "bottom": null,
            "_model_module": "@jupyter-widgets/base",
            "top": null,
            "grid_column": null,
            "overflow_y": null,
            "overflow_x": null,
            "grid_auto_flow": null,
            "grid_area": null,
            "grid_template_columns": null,
            "flex": null,
            "_model_name": "LayoutModel",
            "justify_items": null,
            "grid_row": null,
            "max_height": null,
            "align_content": null,
            "visibility": null,
            "align_self": null,
            "height": null,
            "min_height": null,
            "padding": null,
            "grid_auto_rows": null,
            "grid_gap": null,
            "max_width": null,
            "order": null,
            "_view_module_version": "1.2.0",
            "grid_template_areas": null,
            "object_position": null,
            "object_fit": null,
            "grid_auto_columns": null,
            "margin": null,
            "display": null,
            "left": null
          }
        },
        "69970c0462884574af114acd434dadc4": {
          "model_module": "@jupyter-widgets/controls",
          "model_name": "ProgressStyleModel",
          "model_module_version": "1.5.0",
          "state": {
            "_view_name": "StyleView",
            "_model_name": "ProgressStyleModel",
            "description_width": "",
            "_view_module": "@jupyter-widgets/base",
            "_model_module_version": "1.5.0",
            "_view_count": null,
            "_view_module_version": "1.2.0",
            "bar_color": null,
            "_model_module": "@jupyter-widgets/controls"
          }
        },
        "91f54166dfa648e5be06b817f31738df": {
          "model_module": "@jupyter-widgets/base",
          "model_name": "LayoutModel",
          "model_module_version": "1.2.0",
          "state": {
            "_view_name": "LayoutView",
            "grid_template_rows": null,
            "right": null,
            "justify_content": null,
            "_view_module": "@jupyter-widgets/base",
            "overflow": null,
            "_model_module_version": "1.2.0",
            "_view_count": null,
            "flex_flow": null,
            "width": "20px",
            "min_width": null,
            "border": null,
            "align_items": null,
            "bottom": null,
            "_model_module": "@jupyter-widgets/base",
            "top": null,
            "grid_column": null,
            "overflow_y": null,
            "overflow_x": null,
            "grid_auto_flow": null,
            "grid_area": null,
            "grid_template_columns": null,
            "flex": null,
            "_model_name": "LayoutModel",
            "justify_items": null,
            "grid_row": null,
            "max_height": null,
            "align_content": null,
            "visibility": null,
            "align_self": null,
            "height": null,
            "min_height": null,
            "padding": null,
            "grid_auto_rows": null,
            "grid_gap": null,
            "max_width": null,
            "order": null,
            "_view_module_version": "1.2.0",
            "grid_template_areas": null,
            "object_position": null,
            "object_fit": null,
            "grid_auto_columns": null,
            "margin": null,
            "display": null,
            "left": null
          }
        },
        "637e58dee75c4a08bca625cd28e268c9": {
          "model_module": "@jupyter-widgets/controls",
          "model_name": "DescriptionStyleModel",
          "model_module_version": "1.5.0",
          "state": {
            "_view_name": "StyleView",
            "_model_name": "DescriptionStyleModel",
            "description_width": "",
            "_view_module": "@jupyter-widgets/base",
            "_model_module_version": "1.5.0",
            "_view_count": null,
            "_view_module_version": "1.2.0",
            "_model_module": "@jupyter-widgets/controls"
          }
        },
        "751e7d3662a74b38b51275da9b9874ab": {
          "model_module": "@jupyter-widgets/base",
          "model_name": "LayoutModel",
          "model_module_version": "1.2.0",
          "state": {
            "_view_name": "LayoutView",
            "grid_template_rows": null,
            "right": null,
            "justify_content": null,
            "_view_module": "@jupyter-widgets/base",
            "overflow": null,
            "_model_module_version": "1.2.0",
            "_view_count": null,
            "flex_flow": null,
            "width": null,
            "min_width": null,
            "border": null,
            "align_items": null,
            "bottom": null,
            "_model_module": "@jupyter-widgets/base",
            "top": null,
            "grid_column": null,
            "overflow_y": null,
            "overflow_x": null,
            "grid_auto_flow": null,
            "grid_area": null,
            "grid_template_columns": null,
            "flex": null,
            "_model_name": "LayoutModel",
            "justify_items": null,
            "grid_row": null,
            "max_height": null,
            "align_content": null,
            "visibility": null,
            "align_self": null,
            "height": null,
            "min_height": null,
            "padding": null,
            "grid_auto_rows": null,
            "grid_gap": null,
            "max_width": null,
            "order": null,
            "_view_module_version": "1.2.0",
            "grid_template_areas": null,
            "object_position": null,
            "object_fit": null,
            "grid_auto_columns": null,
            "margin": null,
            "display": null,
            "left": null
          }
        },
        "a3279f0877fe4599821037113af33493": {
          "model_module": "@jupyter-widgets/controls",
          "model_name": "HBoxModel",
          "model_module_version": "1.5.0",
          "state": {
            "_view_name": "HBoxView",
            "_dom_classes": [],
            "_model_name": "HBoxModel",
            "_view_module": "@jupyter-widgets/controls",
            "_model_module_version": "1.5.0",
            "_view_count": null,
            "_view_module_version": "1.5.0",
            "box_style": "",
            "layout": "IPY_MODEL_f52099e4ea34414b8121f55d97ee49dd",
            "_model_module": "@jupyter-widgets/controls",
            "children": [
              "IPY_MODEL_e94291571d3044e6b26b077936dd1e43",
              "IPY_MODEL_512133fd19eb4059b85283396191f3b4",
              "IPY_MODEL_9e62561577894be8b86b17ad3790f8b8"
            ]
          }
        },
        "f52099e4ea34414b8121f55d97ee49dd": {
          "model_module": "@jupyter-widgets/base",
          "model_name": "LayoutModel",
          "model_module_version": "1.2.0",
          "state": {
            "_view_name": "LayoutView",
            "grid_template_rows": null,
            "right": null,
            "justify_content": null,
            "_view_module": "@jupyter-widgets/base",
            "overflow": null,
            "_model_module_version": "1.2.0",
            "_view_count": null,
            "flex_flow": null,
            "width": null,
            "min_width": null,
            "border": null,
            "align_items": null,
            "bottom": null,
            "_model_module": "@jupyter-widgets/base",
            "top": null,
            "grid_column": null,
            "overflow_y": null,
            "overflow_x": null,
            "grid_auto_flow": null,
            "grid_area": null,
            "grid_template_columns": null,
            "flex": null,
            "_model_name": "LayoutModel",
            "justify_items": null,
            "grid_row": null,
            "max_height": null,
            "align_content": null,
            "visibility": null,
            "align_self": null,
            "height": null,
            "min_height": null,
            "padding": null,
            "grid_auto_rows": null,
            "grid_gap": null,
            "max_width": null,
            "order": null,
            "_view_module_version": "1.2.0",
            "grid_template_areas": null,
            "object_position": null,
            "object_fit": null,
            "grid_auto_columns": null,
            "margin": null,
            "display": null,
            "left": null
          }
        },
        "e94291571d3044e6b26b077936dd1e43": {
          "model_module": "@jupyter-widgets/controls",
          "model_name": "HTMLModel",
          "model_module_version": "1.5.0",
          "state": {
            "_view_name": "HTMLView",
            "style": "IPY_MODEL_dfd1df89a1234d74a628c8b5a442f95e",
            "_dom_classes": [],
            "description": "",
            "_model_name": "HTMLModel",
            "placeholder": "​",
            "_view_module": "@jupyter-widgets/controls",
            "_model_module_version": "1.5.0",
            "value": "100%",
            "_view_count": null,
            "_view_module_version": "1.5.0",
            "description_tooltip": null,
            "_model_module": "@jupyter-widgets/controls",
            "layout": "IPY_MODEL_471630c077c04aa4bd71fea15ef7d749"
          }
        },
        "512133fd19eb4059b85283396191f3b4": {
          "model_module": "@jupyter-widgets/controls",
          "model_name": "FloatProgressModel",
          "model_module_version": "1.5.0",
          "state": {
            "_view_name": "ProgressView",
            "style": "IPY_MODEL_4110ec0dedf2474a808f36b350afa38b",
            "_dom_classes": [],
            "description": "",
            "_model_name": "FloatProgressModel",
            "bar_style": "danger",
            "max": 23262,
            "_view_module": "@jupyter-widgets/controls",
            "_model_module_version": "1.5.0",
            "value": 23261,
            "_view_count": null,
            "_view_module_version": "1.5.0",
            "orientation": "horizontal",
            "min": 0,
            "description_tooltip": null,
            "_model_module": "@jupyter-widgets/controls",
            "layout": "IPY_MODEL_eaaf5e3ab8904825804e61d02cad07db"
          }
        },
        "9e62561577894be8b86b17ad3790f8b8": {
          "model_module": "@jupyter-widgets/controls",
          "model_name": "HTMLModel",
          "model_module_version": "1.5.0",
          "state": {
            "_view_name": "HTMLView",
            "style": "IPY_MODEL_d28ff48a38c740adb813b73896edc15b",
            "_dom_classes": [],
            "description": "",
            "_model_name": "HTMLModel",
            "placeholder": "​",
            "_view_module": "@jupyter-widgets/controls",
            "_model_module_version": "1.5.0",
            "value": " 23261/23262 [00:01&lt;00:00, 14908.89 examples/s]",
            "_view_count": null,
            "_view_module_version": "1.5.0",
            "description_tooltip": null,
            "_model_module": "@jupyter-widgets/controls",
            "layout": "IPY_MODEL_d58517f7c22b4a5e9c9c48481a063022"
          }
        },
        "dfd1df89a1234d74a628c8b5a442f95e": {
          "model_module": "@jupyter-widgets/controls",
          "model_name": "DescriptionStyleModel",
          "model_module_version": "1.5.0",
          "state": {
            "_view_name": "StyleView",
            "_model_name": "DescriptionStyleModel",
            "description_width": "",
            "_view_module": "@jupyter-widgets/base",
            "_model_module_version": "1.5.0",
            "_view_count": null,
            "_view_module_version": "1.2.0",
            "_model_module": "@jupyter-widgets/controls"
          }
        },
        "471630c077c04aa4bd71fea15ef7d749": {
          "model_module": "@jupyter-widgets/base",
          "model_name": "LayoutModel",
          "model_module_version": "1.2.0",
          "state": {
            "_view_name": "LayoutView",
            "grid_template_rows": null,
            "right": null,
            "justify_content": null,
            "_view_module": "@jupyter-widgets/base",
            "overflow": null,
            "_model_module_version": "1.2.0",
            "_view_count": null,
            "flex_flow": null,
            "width": null,
            "min_width": null,
            "border": null,
            "align_items": null,
            "bottom": null,
            "_model_module": "@jupyter-widgets/base",
            "top": null,
            "grid_column": null,
            "overflow_y": null,
            "overflow_x": null,
            "grid_auto_flow": null,
            "grid_area": null,
            "grid_template_columns": null,
            "flex": null,
            "_model_name": "LayoutModel",
            "justify_items": null,
            "grid_row": null,
            "max_height": null,
            "align_content": null,
            "visibility": null,
            "align_self": null,
            "height": null,
            "min_height": null,
            "padding": null,
            "grid_auto_rows": null,
            "grid_gap": null,
            "max_width": null,
            "order": null,
            "_view_module_version": "1.2.0",
            "grid_template_areas": null,
            "object_position": null,
            "object_fit": null,
            "grid_auto_columns": null,
            "margin": null,
            "display": null,
            "left": null
          }
        },
        "4110ec0dedf2474a808f36b350afa38b": {
          "model_module": "@jupyter-widgets/controls",
          "model_name": "ProgressStyleModel",
          "model_module_version": "1.5.0",
          "state": {
            "_view_name": "StyleView",
            "_model_name": "ProgressStyleModel",
            "description_width": "",
            "_view_module": "@jupyter-widgets/base",
            "_model_module_version": "1.5.0",
            "_view_count": null,
            "_view_module_version": "1.2.0",
            "bar_color": null,
            "_model_module": "@jupyter-widgets/controls"
          }
        },
        "eaaf5e3ab8904825804e61d02cad07db": {
          "model_module": "@jupyter-widgets/base",
          "model_name": "LayoutModel",
          "model_module_version": "1.2.0",
          "state": {
            "_view_name": "LayoutView",
            "grid_template_rows": null,
            "right": null,
            "justify_content": null,
            "_view_module": "@jupyter-widgets/base",
            "overflow": null,
            "_model_module_version": "1.2.0",
            "_view_count": null,
            "flex_flow": null,
            "width": null,
            "min_width": null,
            "border": null,
            "align_items": null,
            "bottom": null,
            "_model_module": "@jupyter-widgets/base",
            "top": null,
            "grid_column": null,
            "overflow_y": null,
            "overflow_x": null,
            "grid_auto_flow": null,
            "grid_area": null,
            "grid_template_columns": null,
            "flex": null,
            "_model_name": "LayoutModel",
            "justify_items": null,
            "grid_row": null,
            "max_height": null,
            "align_content": null,
            "visibility": null,
            "align_self": null,
            "height": null,
            "min_height": null,
            "padding": null,
            "grid_auto_rows": null,
            "grid_gap": null,
            "max_width": null,
            "order": null,
            "_view_module_version": "1.2.0",
            "grid_template_areas": null,
            "object_position": null,
            "object_fit": null,
            "grid_auto_columns": null,
            "margin": null,
            "display": null,
            "left": null
          }
        },
        "d28ff48a38c740adb813b73896edc15b": {
          "model_module": "@jupyter-widgets/controls",
          "model_name": "DescriptionStyleModel",
          "model_module_version": "1.5.0",
          "state": {
            "_view_name": "StyleView",
            "_model_name": "DescriptionStyleModel",
            "description_width": "",
            "_view_module": "@jupyter-widgets/base",
            "_model_module_version": "1.5.0",
            "_view_count": null,
            "_view_module_version": "1.2.0",
            "_model_module": "@jupyter-widgets/controls"
          }
        },
        "d58517f7c22b4a5e9c9c48481a063022": {
          "model_module": "@jupyter-widgets/base",
          "model_name": "LayoutModel",
          "model_module_version": "1.2.0",
          "state": {
            "_view_name": "LayoutView",
            "grid_template_rows": null,
            "right": null,
            "justify_content": null,
            "_view_module": "@jupyter-widgets/base",
            "overflow": null,
            "_model_module_version": "1.2.0",
            "_view_count": null,
            "flex_flow": null,
            "width": null,
            "min_width": null,
            "border": null,
            "align_items": null,
            "bottom": null,
            "_model_module": "@jupyter-widgets/base",
            "top": null,
            "grid_column": null,
            "overflow_y": null,
            "overflow_x": null,
            "grid_auto_flow": null,
            "grid_area": null,
            "grid_template_columns": null,
            "flex": null,
            "_model_name": "LayoutModel",
            "justify_items": null,
            "grid_row": null,
            "max_height": null,
            "align_content": null,
            "visibility": null,
            "align_self": null,
            "height": null,
            "min_height": null,
            "padding": null,
            "grid_auto_rows": null,
            "grid_gap": null,
            "max_width": null,
            "order": null,
            "_view_module_version": "1.2.0",
            "grid_template_areas": null,
            "object_position": null,
            "object_fit": null,
            "grid_auto_columns": null,
            "margin": null,
            "display": null,
            "left": null
          }
        }
      }
    }
  },
  "cells": [
    {
      "cell_type": "markdown",
      "metadata": {
        "id": "view-in-github",
        "colab_type": "text"
      },
      "source": [
        "<a href=\"https://colab.research.google.com/github/aaperei/data-science/blob/main/benchmark_deep_neural_networks.ipynb\" target=\"_parent\"><img src=\"https://colab.research.google.com/assets/colab-badge.svg\" alt=\"Open In Colab\"/></a>"
      ]
    },
    {
      "cell_type": "markdown",
      "source": [
        "# Projecto Final - 2021/2S Redes Neurais - UNIFESP\n",
        "Alison Augusto M Perera\n",
        "---\n",
        "\n",
        "\n",
        "O presente trabalho tem o objetivo de comparar diversos modelos de redes neurais do tipo `CNN` - *Convolutional Neural Networks* - na tarefa de classificação de imagens. Utilizou-se da técnica de *transfer learning* a fim de se reutilizar modelos pré-treinados, fazendo apenas pequenos ajustes na camada de saída do modelo para a adaptação para o conjunto de dados em questão.\n",
        "\n",
        "# Processo utilizado\n",
        "![process-flow-menor.png](data:image/png;base64,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)\n",
        "\n"
      ],
      "metadata": {
        "id": "hnp2k9y_vB4d"
      }
    },
    {
      "cell_type": "code",
      "source": [
        "# Show GPU properties\n",
        "\n",
        "gpu_info = !nvidia-smi\n",
        "gpu_info = '\\n'.join(gpu_info)\n",
        "if gpu_info.find('failed') >= 0:\n",
        "  print('Not connected to a GPU')\n",
        "else:\n",
        "  print(gpu_info)"
      ],
      "metadata": {
        "colab": {
          "base_uri": "https://localhost:8080/"
        },
        "id": "jWEDEvojQ5Yg",
        "outputId": "e8f098d1-06e7-4d67-b5b1-efdfd6a21bf5"
      },
      "execution_count": 1,
      "outputs": [
        {
          "output_type": "stream",
          "name": "stdout",
          "text": [
            "Mon Feb 14 17:26:13 2022       \n",
            "+-----------------------------------------------------------------------------+\n",
            "| NVIDIA-SMI 460.32.03    Driver Version: 460.32.03    CUDA Version: 11.2     |\n",
            "|-------------------------------+----------------------+----------------------+\n",
            "| GPU  Name        Persistence-M| Bus-Id        Disp.A | Volatile Uncorr. ECC |\n",
            "| Fan  Temp  Perf  Pwr:Usage/Cap|         Memory-Usage | GPU-Util  Compute M. |\n",
            "|                               |                      |               MIG M. |\n",
            "|===============================+======================+======================|\n",
            "|   0  Tesla P100-PCIE...  Off  | 00000000:00:04.0 Off |                    0 |\n",
            "| N/A   33C    P0    26W / 250W |      0MiB / 16280MiB |      0%      Default |\n",
            "|                               |                      |                  N/A |\n",
            "+-------------------------------+----------------------+----------------------+\n",
            "                                                                               \n",
            "+-----------------------------------------------------------------------------+\n",
            "| Processes:                                                                  |\n",
            "|  GPU   GI   CI        PID   Type   Process name                  GPU Memory |\n",
            "|        ID   ID                                                   Usage      |\n",
            "|=============================================================================|\n",
            "|  No running processes found                                                 |\n",
            "+-----------------------------------------------------------------------------+\n"
          ]
        }
      ]
    },
    {
      "cell_type": "code",
      "source": [
        "# Show RAM properties\n",
        "from psutil import virtual_memory\n",
        "ram_gb = virtual_memory().total / 1e9\n",
        "print('Your runtime has {:.1f} gigabytes of available RAM\\n'.format(ram_gb))\n",
        "\n",
        "if ram_gb < 20:\n",
        "  print('Not using a high-RAM runtime')\n",
        "else:\n",
        "  print('You are using a high-RAM runtime!')"
      ],
      "metadata": {
        "colab": {
          "base_uri": "https://localhost:8080/"
        },
        "id": "I-1rzxO-RD6I",
        "outputId": "587d07b4-ca01-4def-b727-1ae838eb0a64"
      },
      "execution_count": 2,
      "outputs": [
        {
          "output_type": "stream",
          "name": "stdout",
          "text": [
            "Your runtime has 27.3 gigabytes of available RAM\n",
            "\n",
            "You are using a high-RAM runtime!\n"
          ]
        }
      ]
    },
    {
      "cell_type": "code",
      "execution_count": 3,
      "metadata": {
        "id": "Y376I5u7qw58"
      },
      "outputs": [],
      "source": [
        "# Imports\n",
        "import tensorflow as tf\n",
        "import tensorflow_datasets as tfds\n",
        "\n",
        "import pandas as pd\n",
        "import matplotlib.pyplot as plt\n",
        "import inspect\n",
        "from tqdm import tqdm\n",
        "import time\n",
        "\n",
        "# Set batch size for training and validation\n",
        "batch_size = 32"
      ]
    },
    {
      "cell_type": "code",
      "source": [
        "# Download the training and validation data\n",
        "(train, validation), metadata = tfds.load('cats_vs_dogs', split=['train[:70%]', 'train[70%:]'], \n",
        "                                          with_info=True, as_supervised=True)\n",
        "\n",
        "# Number of training examples and labels\n",
        "num_train = len(list(train))\n",
        "num_validation = len(list(validation))\n",
        "num_classes = len(metadata.features['label'].names)\n",
        "num_iterations = int(num_train/batch_size)\n",
        "\n",
        "# Print important info\n",
        "print(f'Num train images: {num_train} \\\n",
        "        \\nNum validation images: {num_validation} \\\n",
        "        \\nNum classes: {num_classes} \\\n",
        "        \\nNum iterations per epoch: {num_iterations}')"
      ],
      "metadata": {
        "colab": {
          "base_uri": "https://localhost:8080/",
          "height": 307,
          "referenced_widgets": [
            "cbd8f190ca99403eb2e63889d2f987fe",
            "b03cde7ebfbb4ed1aa7599009d766037",
            "693ea26688934cfaa81c7f98942458ce",
            "9d70b9ed3df24e8fb0c54b432d510366",
            "da3688576cbd40f4870ff748ac095184",
            "50a6f91e629443a1882e0a5d7e9076b7",
            "85d9b623fd9345d1aa748abb0d59f800",
            "082161c63d774d2ca23091c5ecd00b89",
            "3fc25c19e0fd4d198e4d17e0de9dc7fa",
            "19294416ae7c48fca0e774abeb11f6e8",
            "c936280136134eeb9c783ce11cef8c12",
            "0ecd0e926280464d89ee9d892cbe63f6",
            "286405cd486d46ea8916323df3115849",
            "dd36e5d71516405d9a868bc0fcfd025f",
            "15a587d5606b4fc3a05483b773d48886",
            "68ff0f9230f3497892774eed654fad44",
            "3dc5646997c04dfbafb478c73d9728e3",
            "e5d15304199c4ca89e3ac1016d621891",
            "8914b3135f574e4eb58e83226bd5aede",
            "e637949739024717afbc4cf8f8afd3ed",
            "26cda0b63ee242e99de4861f504e097e",
            "f2e6a62c27274aeebfe0f574e57488b5",
            "919e74feaf0946a094abad8d9e8e3da8",
            "7e1254c6115245f59289a5e74aa4c373",
            "643dd39f1af14c7d8101741b87da1180",
            "2b459451da7f4d138f976dc3b12bb220",
            "3b27f50691bb4659884f189f393d3185",
            "e7580d66ed674352a1fe59d322de26ac",
            "be0ae9bdcf1b4dad95a81543231e0266",
            "69970c0462884574af114acd434dadc4",
            "91f54166dfa648e5be06b817f31738df",
            "637e58dee75c4a08bca625cd28e268c9",
            "751e7d3662a74b38b51275da9b9874ab",
            "a3279f0877fe4599821037113af33493",
            "f52099e4ea34414b8121f55d97ee49dd",
            "e94291571d3044e6b26b077936dd1e43",
            "512133fd19eb4059b85283396191f3b4",
            "9e62561577894be8b86b17ad3790f8b8",
            "dfd1df89a1234d74a628c8b5a442f95e",
            "471630c077c04aa4bd71fea15ef7d749",
            "4110ec0dedf2474a808f36b350afa38b",
            "eaaf5e3ab8904825804e61d02cad07db",
            "d28ff48a38c740adb813b73896edc15b",
            "d58517f7c22b4a5e9c9c48481a063022"
          ]
        },
        "id": "1pEC7UHbrPfz",
        "outputId": "1b6c3ba0-e9af-4953-90f1-c0aa6c1213be"
      },
      "execution_count": 4,
      "outputs": [
        {
          "output_type": "stream",
          "name": "stdout",
          "text": [
            "\u001b[1mDownloading and preparing dataset cats_vs_dogs/4.0.0 (download: 786.68 MiB, generated: Unknown size, total: 786.68 MiB) to /root/tensorflow_datasets/cats_vs_dogs/4.0.0...\u001b[0m\n"
          ]
        },
        {
          "output_type": "display_data",
          "data": {
            "application/vnd.jupyter.widget-view+json": {
              "model_id": "cbd8f190ca99403eb2e63889d2f987fe",
              "version_minor": 0,
              "version_major": 2
            },
            "text/plain": [
              "Dl Completed...: 0 url [00:00, ? url/s]"
            ]
          },
          "metadata": {}
        },
        {
          "output_type": "display_data",
          "data": {
            "application/vnd.jupyter.widget-view+json": {
              "model_id": "0ecd0e926280464d89ee9d892cbe63f6",
              "version_minor": 0,
              "version_major": 2
            },
            "text/plain": [
              "Dl Size...: 0 MiB [00:00, ? MiB/s]"
            ]
          },
          "metadata": {}
        },
        {
          "output_type": "stream",
          "name": "stdout",
          "text": [
            "\n",
            "\n"
          ]
        },
        {
          "output_type": "display_data",
          "data": {
            "application/vnd.jupyter.widget-view+json": {
              "model_id": "919e74feaf0946a094abad8d9e8e3da8",
              "version_minor": 0,
              "version_major": 2
            },
            "text/plain": [
              "0 examples [00:00, ? examples/s]"
            ]
          },
          "metadata": {}
        },
        {
          "output_type": "stream",
          "name": "stderr",
          "text": [
            "WARNING:absl:1738 images were corrupted and were skipped\n"
          ]
        },
        {
          "output_type": "stream",
          "name": "stdout",
          "text": [
            "Shuffling and writing examples to /root/tensorflow_datasets/cats_vs_dogs/4.0.0.incompleteB8DA28/cats_vs_dogs-train.tfrecord\n"
          ]
        },
        {
          "output_type": "display_data",
          "data": {
            "application/vnd.jupyter.widget-view+json": {
              "model_id": "a3279f0877fe4599821037113af33493",
              "version_minor": 0,
              "version_major": 2
            },
            "text/plain": [
              "  0%|          | 0/23262 [00:00<?, ? examples/s]"
            ]
          },
          "metadata": {}
        },
        {
          "output_type": "stream",
          "name": "stdout",
          "text": [
            "\u001b[1mDataset cats_vs_dogs downloaded and prepared to /root/tensorflow_datasets/cats_vs_dogs/4.0.0. Subsequent calls will reuse this data.\u001b[0m\n",
            "Num train images: 16283         \n",
            "Num validation images: 6979         \n",
            "Num classes: 2         \n",
            "Num iterations per epoch: 508\n"
          ]
        }
      ]
    },
    {
      "cell_type": "code",
      "source": [
        "def normalize_img(image, label, img_size):\n",
        "    # Resize image to the desired img_size and normalize it\n",
        "    # One hot encode the label\n",
        "    image = tf.image.resize(image, img_size)\n",
        "    image = tf.cast(image, tf.float32) / 255.\n",
        "    label = tf.one_hot(label, depth=num_classes)\n",
        "    return image, label\n",
        "\n",
        "def preprocess_data(train, validation, batch_size, img_size):\n",
        "    # Apply the normalize_img function on all train and validation data and create batches\n",
        "    train_processed = train.map(lambda image, label: normalize_img(image, label, img_size))\n",
        "    train_processed = train_processed.batch(batch_size).repeat()\n",
        "\n",
        "    validation_processed = validation.map(lambda image, label: normalize_img(image, label, img_size))\n",
        "    validation_processed = validation_processed.batch(batch_size)\n",
        "\n",
        "    return train_processed, validation_processed\n",
        "\n",
        "# Run preprocessing\n",
        "train_processed_224, validation_processed_224 = preprocess_data(train, validation, batch_size, img_size=[224,224])\n",
        "train_processed_331, validation_processed_331 = preprocess_data(train, validation, batch_size, img_size=[331,331])"
      ],
      "metadata": {
        "id": "2xX1echmrT69"
      },
      "execution_count": 5,
      "outputs": []
    },
    {
      "cell_type": "code",
      "source": [
        "# List all available models\n",
        "model_dictionary = {m[0]:m[1] for m in inspect.getmembers(tf.keras.applications, inspect.isfunction)}\n",
        "model_dictionary"
      ],
      "metadata": {
        "colab": {
          "base_uri": "https://localhost:8080/"
        },
        "id": "d_zsacjdrMsM",
        "outputId": "55db1c35-276d-49d4-ba38-6a12482b3df4"
      },
      "execution_count": 6,
      "outputs": [
        {
          "output_type": "execute_result",
          "data": {
            "text/plain": [
              "{'DenseNet121': <function keras.applications.densenet.DenseNet121>,\n",
              " 'DenseNet169': <function keras.applications.densenet.DenseNet169>,\n",
              " 'DenseNet201': <function keras.applications.densenet.DenseNet201>,\n",
              " 'EfficientNetB0': <function keras.applications.efficientnet.EfficientNetB0>,\n",
              " 'EfficientNetB1': <function keras.applications.efficientnet.EfficientNetB1>,\n",
              " 'EfficientNetB2': <function keras.applications.efficientnet.EfficientNetB2>,\n",
              " 'EfficientNetB3': <function keras.applications.efficientnet.EfficientNetB3>,\n",
              " 'EfficientNetB4': <function keras.applications.efficientnet.EfficientNetB4>,\n",
              " 'EfficientNetB5': <function keras.applications.efficientnet.EfficientNetB5>,\n",
              " 'EfficientNetB6': <function keras.applications.efficientnet.EfficientNetB6>,\n",
              " 'EfficientNetB7': <function keras.applications.efficientnet.EfficientNetB7>,\n",
              " 'InceptionResNetV2': <function keras.applications.inception_resnet_v2.InceptionResNetV2>,\n",
              " 'InceptionV3': <function keras.applications.inception_v3.InceptionV3>,\n",
              " 'MobileNet': <function keras.applications.mobilenet.MobileNet>,\n",
              " 'MobileNetV2': <function keras.applications.mobilenet_v2.MobileNetV2>,\n",
              " 'MobileNetV3Large': <function keras.applications.mobilenet_v3.MobileNetV3Large>,\n",
              " 'MobileNetV3Small': <function keras.applications.mobilenet_v3.MobileNetV3Small>,\n",
              " 'NASNetLarge': <function keras.applications.nasnet.NASNetLarge>,\n",
              " 'NASNetMobile': <function keras.applications.nasnet.NASNetMobile>,\n",
              " 'ResNet101': <function keras.applications.resnet.ResNet101>,\n",
              " 'ResNet101V2': <function keras.applications.resnet_v2.ResNet101V2>,\n",
              " 'ResNet152': <function keras.applications.resnet.ResNet152>,\n",
              " 'ResNet152V2': <function keras.applications.resnet_v2.ResNet152V2>,\n",
              " 'ResNet50': <function keras.applications.resnet.ResNet50>,\n",
              " 'ResNet50V2': <function keras.applications.resnet_v2.ResNet50V2>,\n",
              " 'VGG16': <function keras.applications.vgg16.VGG16>,\n",
              " 'VGG19': <function keras.applications.vgg19.VGG19>,\n",
              " 'Xception': <function keras.applications.xception.Xception>}"
            ]
          },
          "metadata": {},
          "execution_count": 6
        }
      ]
    },
    {
      "cell_type": "code",
      "source": [
        "# Loop over each model available in Keras\n",
        "model_benchmarks = {'model_name': [], 'num_model_params': [], 'validation_accuracy': [], 'train_time': []}\n",
        "for model_name, model in tqdm(model_dictionary.items()):\n",
        "    start_time = time.time()\n",
        "    # Special handling for \"NASNetLarge\" since it requires input images with size (331,331)\n",
        "    if 'NASNetLarge' in model_name:\n",
        "        input_shape=(331,331,3)\n",
        "        train_processed = train_processed_331\n",
        "        validation_processed = validation_processed_331\n",
        "    else:\n",
        "        input_shape=(224,224,3)\n",
        "        train_processed = train_processed_224\n",
        "        validation_processed = validation_processed_224\n",
        "\n",
        "    # load the pre-trained model with global average pooling as the last layer and freeze the model weights\n",
        "    pre_trained_model = model(include_top=False, pooling='avg', input_shape=input_shape)\n",
        "    pre_trained_model.trainable = False\n",
        "\n",
        "    # custom modifications on top of pre-trained model\n",
        "    clf_model = tf.keras.models.Sequential()\n",
        "    clf_model.add(pre_trained_model)\n",
        "    clf_model.add(tf.keras.layers.Dense(num_classes, activation='softmax'))\n",
        "    clf_model.compile(loss='categorical_crossentropy', metrics=['accuracy'])\n",
        "    history = clf_model.fit(train_processed, epochs=3, validation_data=validation_processed, \n",
        "                            steps_per_epoch=num_iterations)\n",
        "\n",
        "    # Calculate all relevant metrics\n",
        "    model_benchmarks['model_name'].append(model_name)\n",
        "    model_benchmarks['train_time'].append(time.time()-start_time)\n",
        "    model_benchmarks['num_model_params'].append(pre_trained_model.count_params())\n",
        "    model_benchmarks['validation_accuracy'].append(history.history['val_accuracy'][-1])"
      ],
      "metadata": {
        "colab": {
          "base_uri": "https://localhost:8080/"
        },
        "id": "VkxmJ3swwQuO",
        "outputId": "d16213e4-4aa5-4148-9a2a-3ef866c72f34"
      },
      "execution_count": 7,
      "outputs": [
        {
          "output_type": "stream",
          "name": "stderr",
          "text": [
            "\r  0%|          | 0/28 [00:00<?, ?it/s]"
          ]
        },
        {
          "output_type": "stream",
          "name": "stdout",
          "text": [
            "Downloading data from https://storage.googleapis.com/tensorflow/keras-applications/densenet/densenet121_weights_tf_dim_ordering_tf_kernels_notop.h5\n",
            "29089792/29084464 [==============================] - 0s 0us/step\n",
            "29097984/29084464 [==============================] - 0s 0us/step\n",
            "Epoch 1/3\n",
            "508/508 [==============================] - 53s 80ms/step - loss: 0.0683 - accuracy: 0.9732 - val_loss: 0.0402 - val_accuracy: 0.9841\n",
            "Epoch 2/3\n",
            "508/508 [==============================] - 39s 77ms/step - loss: 0.0374 - accuracy: 0.9862 - val_loss: 0.0407 - val_accuracy: 0.9848\n",
            "Epoch 3/3\n",
            "508/508 [==============================] - 39s 77ms/step - loss: 0.0336 - accuracy: 0.9879 - val_loss: 0.0348 - val_accuracy: 0.9868\n"
          ]
        },
        {
          "output_type": "stream",
          "name": "stderr",
          "text": [
            "\r  4%|▎         | 1/28 [02:15<1:00:52, 135.27s/it]"
          ]
        },
        {
          "output_type": "stream",
          "name": "stdout",
          "text": [
            "Downloading data from https://storage.googleapis.com/tensorflow/keras-applications/densenet/densenet169_weights_tf_dim_ordering_tf_kernels_notop.h5\n",
            "51879936/51877672 [==============================] - 2s 0us/step\n",
            "51888128/51877672 [==============================] - 2s 0us/step\n",
            "Epoch 1/3\n",
            "508/508 [==============================] - 59s 101ms/step - loss: 0.0563 - accuracy: 0.9799 - val_loss: 0.0290 - val_accuracy: 0.9905\n",
            "Epoch 2/3\n",
            "508/508 [==============================] - 49s 97ms/step - loss: 0.0305 - accuracy: 0.9895 - val_loss: 0.0281 - val_accuracy: 0.9910\n",
            "Epoch 3/3\n",
            "508/508 [==============================] - 49s 97ms/step - loss: 0.0272 - accuracy: 0.9906 - val_loss: 0.0289 - val_accuracy: 0.9900\n"
          ]
        },
        {
          "output_type": "stream",
          "name": "stderr",
          "text": [
            "\r  7%|▋         | 2/28 [04:59<1:05:56, 152.19s/it]"
          ]
        },
        {
          "output_type": "stream",
          "name": "stdout",
          "text": [
            "Downloading data from https://storage.googleapis.com/tensorflow/keras-applications/densenet/densenet201_weights_tf_dim_ordering_tf_kernels_notop.h5\n",
            "74842112/74836368 [==============================] - 0s 0us/step\n",
            "74850304/74836368 [==============================] - 0s 0us/step\n",
            "Epoch 1/3\n",
            "508/508 [==============================] - 74s 129ms/step - loss: 0.0506 - accuracy: 0.9816 - val_loss: 0.0267 - val_accuracy: 0.9903\n",
            "Epoch 2/3\n",
            "508/508 [==============================] - 62s 122ms/step - loss: 0.0302 - accuracy: 0.9893 - val_loss: 0.0260 - val_accuracy: 0.9913\n",
            "Epoch 3/3\n",
            "508/508 [==============================] - 65s 127ms/step - loss: 0.0263 - accuracy: 0.9914 - val_loss: 0.0266 - val_accuracy: 0.9908\n"
          ]
        },
        {
          "output_type": "stream",
          "name": "stderr",
          "text": [
            "\r 11%|█         | 3/28 [08:26<1:13:55, 177.44s/it]"
          ]
        },
        {
          "output_type": "stream",
          "name": "stdout",
          "text": [
            "Downloading data from https://storage.googleapis.com/keras-applications/efficientnetb0_notop.h5\n",
            "16711680/16705208 [==============================] - 0s 0us/step\n",
            "16719872/16705208 [==============================] - 0s 0us/step\n",
            "Epoch 1/3\n",
            "508/508 [==============================] - 34s 57ms/step - loss: 0.6974 - accuracy: 0.5024 - val_loss: 0.6960 - val_accuracy: 0.5038\n",
            "Epoch 2/3\n",
            "508/508 [==============================] - 28s 55ms/step - loss: 0.6978 - accuracy: 0.4977 - val_loss: 0.6974 - val_accuracy: 0.5038\n",
            "Epoch 3/3\n",
            "508/508 [==============================] - 28s 55ms/step - loss: 0.6974 - accuracy: 0.5050 - val_loss: 0.6928 - val_accuracy: 0.5044\n"
          ]
        },
        {
          "output_type": "stream",
          "name": "stderr",
          "text": [
            "\r 14%|█▍        | 4/28 [09:59<57:34, 143.94s/it]  "
          ]
        },
        {
          "output_type": "stream",
          "name": "stdout",
          "text": [
            "Downloading data from https://storage.googleapis.com/keras-applications/efficientnetb1_notop.h5\n",
            "27025408/27018416 [==============================] - 1s 0us/step\n",
            "27033600/27018416 [==============================] - 1s 0us/step\n",
            "Epoch 1/3\n",
            "508/508 [==============================] - 47s 78ms/step - loss: 0.6995 - accuracy: 0.5017 - val_loss: 0.7006 - val_accuracy: 0.5038\n",
            "Epoch 2/3\n",
            "508/508 [==============================] - 38s 75ms/step - loss: 0.6997 - accuracy: 0.4954 - val_loss: 0.7031 - val_accuracy: 0.5038\n",
            "Epoch 3/3\n",
            "508/508 [==============================] - 38s 75ms/step - loss: 0.6993 - accuracy: 0.5017 - val_loss: 0.6931 - val_accuracy: 0.5038\n"
          ]
        },
        {
          "output_type": "stream",
          "name": "stderr",
          "text": [
            "\r 18%|█▊        | 5/28 [12:07<52:59, 138.23s/it]"
          ]
        },
        {
          "output_type": "stream",
          "name": "stdout",
          "text": [
            "Downloading data from https://storage.googleapis.com/keras-applications/efficientnetb2_notop.h5\n",
            "31793152/31790344 [==============================] - 1s 0us/step\n",
            "31801344/31790344 [==============================] - 1s 0us/step\n",
            "Epoch 1/3\n",
            "508/508 [==============================] - 49s 82ms/step - loss: 0.7021 - accuracy: 0.5009 - val_loss: 0.7030 - val_accuracy: 0.5038\n",
            "Epoch 2/3\n",
            "508/508 [==============================] - 40s 78ms/step - loss: 0.7017 - accuracy: 0.5002 - val_loss: 0.7049 - val_accuracy: 0.5038\n",
            "Epoch 3/3\n",
            "508/508 [==============================] - 40s 78ms/step - loss: 0.7016 - accuracy: 0.4999 - val_loss: 0.6928 - val_accuracy: 0.5187\n"
          ]
        },
        {
          "output_type": "stream",
          "name": "stderr",
          "text": [
            "\r 21%|██▏       | 6/28 [14:20<49:59, 136.34s/it]"
          ]
        },
        {
          "output_type": "stream",
          "name": "stdout",
          "text": [
            "Downloading data from https://storage.googleapis.com/keras-applications/efficientnetb3_notop.h5\n",
            "43941888/43941136 [==============================] - 0s 0us/step\n",
            "43950080/43941136 [==============================] - 0s 0us/step\n",
            "Epoch 1/3\n",
            "508/508 [==============================] - 60s 102ms/step - loss: 0.7067 - accuracy: 0.5076 - val_loss: 0.6926 - val_accuracy: 0.5038\n",
            "Epoch 2/3\n",
            "508/508 [==============================] - 50s 99ms/step - loss: 0.7042 - accuracy: 0.5115 - val_loss: 0.7105 - val_accuracy: 0.5038\n",
            "Epoch 3/3\n",
            "508/508 [==============================] - 50s 99ms/step - loss: 0.7026 - accuracy: 0.5165 - val_loss: 0.6848 - val_accuracy: 0.5605\n"
          ]
        },
        {
          "output_type": "stream",
          "name": "stderr",
          "text": [
            "\r 25%|██▌       | 7/28 [17:04<50:57, 145.62s/it]"
          ]
        },
        {
          "output_type": "stream",
          "name": "stdout",
          "text": [
            "Downloading data from https://storage.googleapis.com/keras-applications/efficientnetb4_notop.h5\n",
            "71688192/71686520 [==============================] - 1s 0us/step\n",
            "71696384/71686520 [==============================] - 1s 0us/step\n",
            "Epoch 1/3\n",
            "508/508 [==============================] - 78s 134ms/step - loss: 0.7101 - accuracy: 0.5014 - val_loss: 0.7010 - val_accuracy: 0.5038\n",
            "Epoch 2/3\n",
            "508/508 [==============================] - 66s 130ms/step - loss: 0.7099 - accuracy: 0.5014 - val_loss: 0.7161 - val_accuracy: 0.5038\n",
            "Epoch 3/3\n",
            "508/508 [==============================] - 66s 130ms/step - loss: 0.7099 - accuracy: 0.5012 - val_loss: 0.6949 - val_accuracy: 0.4962\n"
          ]
        },
        {
          "output_type": "stream",
          "name": "stderr",
          "text": [
            "\r 29%|██▊       | 8/28 [20:41<56:03, 168.16s/it]"
          ]
        },
        {
          "output_type": "stream",
          "name": "stdout",
          "text": [
            "Downloading data from https://storage.googleapis.com/keras-applications/efficientnetb5_notop.h5\n",
            "115269632/115263384 [==============================] - 4s 0us/step\n",
            "115277824/115263384 [==============================] - 4s 0us/step\n",
            "Epoch 1/3\n",
            "508/508 [==============================] - 120s 213ms/step - loss: 0.7136 - accuracy: 0.5023 - val_loss: 0.7013 - val_accuracy: 0.5038\n",
            "Epoch 2/3\n",
            "508/508 [==============================] - 90s 178ms/step - loss: 0.7131 - accuracy: 0.5014 - val_loss: 0.7383 - val_accuracy: 0.5038\n",
            "Epoch 3/3\n",
            "508/508 [==============================] - 90s 177ms/step - loss: 0.7125 - accuracy: 0.5058 - val_loss: 0.6909 - val_accuracy: 0.5237\n"
          ]
        },
        {
          "output_type": "stream",
          "name": "stderr",
          "text": [
            "\r 32%|███▏      | 9/28 [25:52<1:07:23, 212.81s/it]"
          ]
        },
        {
          "output_type": "stream",
          "name": "stdout",
          "text": [
            "Downloading data from https://storage.googleapis.com/keras-applications/efficientnetb6_notop.h5\n",
            "165240832/165234480 [==============================] - 6s 0us/step\n",
            "165249024/165234480 [==============================] - 6s 0us/step\n",
            "Epoch 1/3\n",
            "508/508 [==============================] - 141s 251ms/step - loss: 0.7176 - accuracy: 0.5089 - val_loss: 0.6988 - val_accuracy: 0.5038\n",
            "Epoch 2/3\n",
            "508/508 [==============================] - 118s 231ms/step - loss: 0.7162 - accuracy: 0.5098 - val_loss: 0.7472 - val_accuracy: 0.5038\n",
            "Epoch 3/3\n",
            "508/508 [==============================] - 118s 231ms/step - loss: 0.7157 - accuracy: 0.5102 - val_loss: 0.6883 - val_accuracy: 0.5870\n"
          ]
        },
        {
          "output_type": "stream",
          "name": "stderr",
          "text": [
            "\r 36%|███▌      | 10/28 [32:21<1:20:09, 267.17s/it]"
          ]
        },
        {
          "output_type": "stream",
          "name": "stdout",
          "text": [
            "Downloading data from https://storage.googleapis.com/keras-applications/efficientnetb7_notop.h5\n",
            "258080768/258076736 [==============================] - 9s 0us/step\n",
            "258088960/258076736 [==============================] - 9s 0us/step\n",
            "Epoch 1/3\n",
            "508/508 [==============================] - 180s 321ms/step - loss: 0.7232 - accuracy: 0.4997 - val_loss: 0.7015 - val_accuracy: 0.5038\n",
            "Epoch 2/3\n",
            "508/508 [==============================] - 160s 314ms/step - loss: 0.7227 - accuracy: 0.4982 - val_loss: 0.7481 - val_accuracy: 0.5038\n",
            "Epoch 3/3\n",
            "508/508 [==============================] - 195s 384ms/step - loss: 0.7222 - accuracy: 0.4971 - val_loss: 0.6972 - val_accuracy: 0.4962\n"
          ]
        },
        {
          "output_type": "stream",
          "name": "stderr",
          "text": [
            "\r 39%|███▉      | 11/28 [41:33<1:40:27, 354.57s/it]"
          ]
        },
        {
          "output_type": "stream",
          "name": "stdout",
          "text": [
            "Downloading data from https://storage.googleapis.com/tensorflow/keras-applications/inception_resnet_v2/inception_resnet_v2_weights_tf_dim_ordering_tf_kernels_notop.h5\n",
            "219062272/219055592 [==============================] - 1s 0us/step\n",
            "219070464/219055592 [==============================] - 1s 0us/step\n",
            "Epoch 1/3\n",
            "508/508 [==============================] - 89s 155ms/step - loss: 0.0502 - accuracy: 0.9840 - val_loss: 0.0330 - val_accuracy: 0.9920\n",
            "Epoch 2/3\n",
            "508/508 [==============================] - 76s 149ms/step - loss: 0.0306 - accuracy: 0.9913 - val_loss: 0.0318 - val_accuracy: 0.9933\n",
            "Epoch 3/3\n",
            "508/508 [==============================] - 76s 150ms/step - loss: 0.0275 - accuracy: 0.9921 - val_loss: 0.0308 - val_accuracy: 0.9930\n"
          ]
        },
        {
          "output_type": "stream",
          "name": "stderr",
          "text": [
            "\r 43%|████▎     | 12/28 [45:41<1:25:50, 321.92s/it]"
          ]
        },
        {
          "output_type": "stream",
          "name": "stdout",
          "text": [
            "Downloading data from https://storage.googleapis.com/tensorflow/keras-applications/inception_v3/inception_v3_weights_tf_dim_ordering_tf_kernels_notop.h5\n",
            "87916544/87910968 [==============================] - 0s 0us/step\n",
            "87924736/87910968 [==============================] - 0s 0us/step\n",
            "Epoch 1/3\n",
            "508/508 [==============================] - 37s 65ms/step - loss: 0.0571 - accuracy: 0.9814 - val_loss: 0.0348 - val_accuracy: 0.9895\n",
            "Epoch 2/3\n",
            "508/508 [==============================] - 32s 63ms/step - loss: 0.0377 - accuracy: 0.9874 - val_loss: 0.0379 - val_accuracy: 0.9894\n",
            "Epoch 3/3\n",
            "508/508 [==============================] - 32s 63ms/step - loss: 0.0320 - accuracy: 0.9902 - val_loss: 0.0391 - val_accuracy: 0.9891\n"
          ]
        },
        {
          "output_type": "stream",
          "name": "stderr",
          "text": [
            "\r 46%|████▋     | 13/28 [47:24<1:03:56, 255.75s/it]"
          ]
        },
        {
          "output_type": "stream",
          "name": "stdout",
          "text": [
            "Downloading data from https://storage.googleapis.com/tensorflow/keras-applications/mobilenet/mobilenet_1_0_224_tf_no_top.h5\n",
            "17227776/17225924 [==============================] - 0s 0us/step\n",
            "17235968/17225924 [==============================] - 0s 0us/step\n",
            "Epoch 1/3\n",
            "508/508 [==============================] - 19s 35ms/step - loss: 0.0706 - accuracy: 0.9725 - val_loss: 0.0374 - val_accuracy: 0.9864\n",
            "Epoch 2/3\n",
            "508/508 [==============================] - 17s 34ms/step - loss: 0.0376 - accuracy: 0.9870 - val_loss: 0.0341 - val_accuracy: 0.9887\n",
            "Epoch 3/3\n",
            "508/508 [==============================] - 17s 34ms/step - loss: 0.0323 - accuracy: 0.9890 - val_loss: 0.0343 - val_accuracy: 0.9880\n"
          ]
        },
        {
          "output_type": "stream",
          "name": "stderr",
          "text": [
            "\r 50%|█████     | 14/28 [48:18<45:28, 194.88s/it]  "
          ]
        },
        {
          "output_type": "stream",
          "name": "stdout",
          "text": [
            "Downloading data from https://storage.googleapis.com/tensorflow/keras-applications/mobilenet_v2/mobilenet_v2_weights_tf_dim_ordering_tf_kernels_1.0_224_no_top.h5\n",
            "9412608/9406464 [==============================] - 0s 0us/step\n",
            "9420800/9406464 [==============================] - 0s 0us/step\n",
            "Epoch 1/3\n",
            "508/508 [==============================] - 22s 40ms/step - loss: 0.0661 - accuracy: 0.9763 - val_loss: 0.0448 - val_accuracy: 0.9842\n",
            "Epoch 2/3\n",
            "508/508 [==============================] - 19s 38ms/step - loss: 0.0430 - accuracy: 0.9849 - val_loss: 0.0420 - val_accuracy: 0.9862\n",
            "Epoch 3/3\n",
            "508/508 [==============================] - 19s 38ms/step - loss: 0.0379 - accuracy: 0.9873 - val_loss: 0.0477 - val_accuracy: 0.9841\n"
          ]
        },
        {
          "output_type": "stream",
          "name": "stderr",
          "text": [
            "\r 54%|█████▎    | 15/28 [49:21<33:34, 154.94s/it]"
          ]
        },
        {
          "output_type": "stream",
          "name": "stdout",
          "text": [
            "Downloading data from https://storage.googleapis.com/tensorflow/keras-applications/mobilenet_v3/weights_mobilenet_v3_large_224_1.0_float_no_top.h5\n",
            "17612800/17605208 [==============================] - 0s 0us/step\n",
            "17620992/17605208 [==============================] - 0s 0us/step\n",
            "Epoch 1/3\n",
            "508/508 [==============================] - 25s 40ms/step - loss: 0.6948 - accuracy: 0.5482 - val_loss: 0.6706 - val_accuracy: 0.5789\n",
            "Epoch 2/3\n",
            "508/508 [==============================] - 19s 37ms/step - loss: 0.6801 - accuracy: 0.5799 - val_loss: 0.7206 - val_accuracy: 0.5082\n",
            "Epoch 3/3\n",
            "508/508 [==============================] - 19s 38ms/step - loss: 0.6740 - accuracy: 0.5886 - val_loss: 0.6554 - val_accuracy: 0.6104\n"
          ]
        },
        {
          "output_type": "stream",
          "name": "stderr",
          "text": [
            "\r 57%|█████▋    | 16/28 [50:26<25:37, 128.08s/it]"
          ]
        },
        {
          "output_type": "stream",
          "name": "stdout",
          "text": [
            "Downloading data from https://storage.googleapis.com/tensorflow/keras-applications/mobilenet_v3/weights_mobilenet_v3_small_224_1.0_float_no_top.h5\n",
            "6701056/6698480 [==============================] - 0s 0us/step\n",
            "6709248/6698480 [==============================] - 0s 0us/step\n",
            "Epoch 1/3\n",
            "508/508 [==============================] - 21s 36ms/step - loss: 0.6800 - accuracy: 0.5635 - val_loss: 0.6592 - val_accuracy: 0.6124\n",
            "Epoch 2/3\n",
            "508/508 [==============================] - 18s 35ms/step - loss: 0.6651 - accuracy: 0.5958 - val_loss: 0.6877 - val_accuracy: 0.5194\n",
            "Epoch 3/3\n",
            "508/508 [==============================] - 18s 35ms/step - loss: 0.6598 - accuracy: 0.6046 - val_loss: 0.6427 - val_accuracy: 0.6293\n"
          ]
        },
        {
          "output_type": "stream",
          "name": "stderr",
          "text": [
            "\r 61%|██████    | 17/28 [51:25<19:39, 107.24s/it]"
          ]
        },
        {
          "output_type": "stream",
          "name": "stdout",
          "text": [
            "Downloading data from https://storage.googleapis.com/tensorflow/keras-applications/nasnet/NASNet-large-no-top.h5\n",
            "343613440/343610240 [==============================] - 10s 0us/step\n",
            "343621632/343610240 [==============================] - 10s 0us/step\n",
            "Epoch 1/3\n",
            "508/508 [==============================] - 439s 834ms/step - loss: 0.0224 - accuracy: 0.9947 - val_loss: 0.0170 - val_accuracy: 0.9950\n",
            "Epoch 2/3\n",
            "508/508 [==============================] - 394s 775ms/step - loss: 0.0120 - accuracy: 0.9968 - val_loss: 0.0186 - val_accuracy: 0.9947\n",
            "Epoch 3/3\n",
            "508/508 [==============================] - 419s 825ms/step - loss: 0.0105 - accuracy: 0.9976 - val_loss: 0.0196 - val_accuracy: 0.9946\n"
          ]
        },
        {
          "output_type": "stream",
          "name": "stderr",
          "text": [
            "\r 64%|██████▍   | 18/28 [1:12:36<1:16:08, 456.83s/it]"
          ]
        },
        {
          "output_type": "stream",
          "name": "stdout",
          "text": [
            "Downloading data from https://storage.googleapis.com/tensorflow/keras-applications/nasnet/NASNet-mobile-no-top.h5\n",
            "19996672/19993432 [==============================] - 0s 0us/step\n",
            "20004864/19993432 [==============================] - 0s 0us/step\n",
            "Epoch 1/3\n",
            "508/508 [==============================] - 51s 79ms/step - loss: 0.0498 - accuracy: 0.9841 - val_loss: 0.0340 - val_accuracy: 0.9894\n",
            "Epoch 2/3\n",
            "508/508 [==============================] - 37s 73ms/step - loss: 0.0315 - accuracy: 0.9889 - val_loss: 0.0355 - val_accuracy: 0.9893\n",
            "Epoch 3/3\n",
            "508/508 [==============================] - 37s 73ms/step - loss: 0.0284 - accuracy: 0.9903 - val_loss: 0.0354 - val_accuracy: 0.9893\n"
          ]
        },
        {
          "output_type": "stream",
          "name": "stderr",
          "text": [
            "\r 68%|██████▊   | 19/28 [1:14:48<53:54, 359.34s/it]  "
          ]
        },
        {
          "output_type": "stream",
          "name": "stdout",
          "text": [
            "Downloading data from https://storage.googleapis.com/tensorflow/keras-applications/resnet/resnet101_weights_tf_dim_ordering_tf_kernels_notop.h5\n",
            "171450368/171446536 [==============================] - 1s 0us/step\n",
            "171458560/171446536 [==============================] - 1s 0us/step\n",
            "Epoch 1/3\n",
            "508/508 [==============================] - 72s 132ms/step - loss: 0.6634 - accuracy: 0.6008 - val_loss: 0.6527 - val_accuracy: 0.6073\n",
            "Epoch 2/3\n",
            "508/508 [==============================] - 63s 125ms/step - loss: 0.6367 - accuracy: 0.6398 - val_loss: 0.6441 - val_accuracy: 0.6123\n",
            "Epoch 3/3\n",
            "508/508 [==============================] - 63s 125ms/step - loss: 0.6228 - accuracy: 0.6568 - val_loss: 0.6107 - val_accuracy: 0.6762\n"
          ]
        },
        {
          "output_type": "stream",
          "name": "stderr",
          "text": [
            "\r 71%|███████▏  | 20/28 [1:18:11<41:38, 312.25s/it]"
          ]
        },
        {
          "output_type": "stream",
          "name": "stdout",
          "text": [
            "Downloading data from https://storage.googleapis.com/tensorflow/keras-applications/resnet/resnet101v2_weights_tf_dim_ordering_tf_kernels_notop.h5\n",
            "171319296/171317808 [==============================] - 1s 0us/step\n",
            "171327488/171317808 [==============================] - 1s 0us/step\n",
            "Epoch 1/3\n",
            "508/508 [==============================] - 71s 126ms/step - loss: 0.0512 - accuracy: 0.9819 - val_loss: 0.0399 - val_accuracy: 0.9884\n",
            "Epoch 2/3\n",
            "508/508 [==============================] - 65s 128ms/step - loss: 0.0332 - accuracy: 0.9901 - val_loss: 0.0451 - val_accuracy: 0.9878\n",
            "Epoch 3/3\n",
            "508/508 [==============================] - 63s 124ms/step - loss: 0.0285 - accuracy: 0.9914 - val_loss: 0.0447 - val_accuracy: 0.9884\n"
          ]
        },
        {
          "output_type": "stream",
          "name": "stderr",
          "text": [
            "\r 75%|███████▌  | 21/28 [1:21:34<32:37, 279.62s/it]"
          ]
        },
        {
          "output_type": "stream",
          "name": "stdout",
          "text": [
            "Downloading data from https://storage.googleapis.com/tensorflow/keras-applications/resnet/resnet152_weights_tf_dim_ordering_tf_kernels_notop.h5\n",
            "234700800/234698864 [==============================] - 1s 0us/step\n",
            "234708992/234698864 [==============================] - 1s 0us/step\n",
            "Epoch 1/3\n",
            "508/508 [==============================] - 101s 183ms/step - loss: 0.6737 - accuracy: 0.5777 - val_loss: 0.6550 - val_accuracy: 0.6193\n",
            "Epoch 2/3\n",
            "508/508 [==============================] - 91s 179ms/step - loss: 0.6481 - accuracy: 0.6253 - val_loss: 0.6529 - val_accuracy: 0.6031\n",
            "Epoch 3/3\n",
            "508/508 [==============================] - 91s 179ms/step - loss: 0.6366 - accuracy: 0.6419 - val_loss: 0.6212 - val_accuracy: 0.6726\n"
          ]
        },
        {
          "output_type": "stream",
          "name": "stderr",
          "text": [
            "\r 79%|███████▊  | 22/28 [1:26:23<28:13, 282.31s/it]"
          ]
        },
        {
          "output_type": "stream",
          "name": "stdout",
          "text": [
            "Downloading data from https://storage.googleapis.com/tensorflow/keras-applications/resnet/resnet152v2_weights_tf_dim_ordering_tf_kernels_notop.h5\n",
            "234553344/234545216 [==============================] - 8s 0us/step\n",
            "234561536/234545216 [==============================] - 8s 0us/step\n",
            "Epoch 1/3\n",
            "508/508 [==============================] - 101s 184ms/step - loss: 0.0519 - accuracy: 0.9814 - val_loss: 0.0414 - val_accuracy: 0.9864\n",
            "Epoch 2/3\n",
            "508/508 [==============================] - 91s 180ms/step - loss: 0.0326 - accuracy: 0.9899 - val_loss: 0.0411 - val_accuracy: 0.9864\n",
            "Epoch 3/3\n",
            "508/508 [==============================] - 91s 180ms/step - loss: 0.0277 - accuracy: 0.9922 - val_loss: 0.0407 - val_accuracy: 0.9878\n"
          ]
        },
        {
          "output_type": "stream",
          "name": "stderr",
          "text": [
            "\r 82%|████████▏ | 23/28 [1:32:06<25:03, 300.61s/it]"
          ]
        },
        {
          "output_type": "stream",
          "name": "stdout",
          "text": [
            "Downloading data from https://storage.googleapis.com/tensorflow/keras-applications/resnet/resnet50_weights_tf_dim_ordering_tf_kernels_notop.h5\n",
            "94773248/94765736 [==============================] - 0s 0us/step\n",
            "94781440/94765736 [==============================] - 0s 0us/step\n",
            "Epoch 1/3\n",
            "508/508 [==============================] - 42s 78ms/step - loss: 0.6683 - accuracy: 0.5897 - val_loss: 0.6508 - val_accuracy: 0.6167\n",
            "Epoch 2/3\n",
            "508/508 [==============================] - 39s 76ms/step - loss: 0.6508 - accuracy: 0.6214 - val_loss: 0.6572 - val_accuracy: 0.6005\n",
            "Epoch 3/3\n",
            "508/508 [==============================] - 39s 76ms/step - loss: 0.6426 - accuracy: 0.6309 - val_loss: 0.6274 - val_accuracy: 0.6535\n"
          ]
        },
        {
          "output_type": "stream",
          "name": "stderr",
          "text": [
            "\r 86%|████████▌ | 24/28 [1:34:08<16:27, 246.93s/it]"
          ]
        },
        {
          "output_type": "stream",
          "name": "stdout",
          "text": [
            "Downloading data from https://storage.googleapis.com/tensorflow/keras-applications/resnet/resnet50v2_weights_tf_dim_ordering_tf_kernels_notop.h5\n",
            "94674944/94668760 [==============================] - 1s 0us/step\n",
            "94683136/94668760 [==============================] - 1s 0us/step\n",
            "Epoch 1/3\n",
            "508/508 [==============================] - 40s 74ms/step - loss: 0.0562 - accuracy: 0.9796 - val_loss: 0.0442 - val_accuracy: 0.9860\n",
            "Epoch 2/3\n",
            "508/508 [==============================] - 37s 72ms/step - loss: 0.0364 - accuracy: 0.9884 - val_loss: 0.0463 - val_accuracy: 0.9868\n",
            "Epoch 3/3\n",
            "508/508 [==============================] - 47s 92ms/step - loss: 0.0307 - accuracy: 0.9902 - val_loss: 0.0488 - val_accuracy: 0.9854\n"
          ]
        },
        {
          "output_type": "stream",
          "name": "stderr",
          "text": [
            "\r 89%|████████▉ | 25/28 [1:36:14<10:32, 210.73s/it]"
          ]
        },
        {
          "output_type": "stream",
          "name": "stdout",
          "text": [
            "Downloading data from https://storage.googleapis.com/tensorflow/keras-applications/vgg16/vgg16_weights_tf_dim_ordering_tf_kernels_notop.h5\n",
            "58892288/58889256 [==============================] - 0s 0us/step\n",
            "58900480/58889256 [==============================] - 0s 0us/step\n",
            "Epoch 1/3\n",
            "508/508 [==============================] - 48s 88ms/step - loss: 0.4401 - accuracy: 0.8325 - val_loss: 0.3267 - val_accuracy: 0.8845\n",
            "Epoch 2/3\n",
            "508/508 [==============================] - 46s 87ms/step - loss: 0.2895 - accuracy: 0.8935 - val_loss: 0.2638 - val_accuracy: 0.9021\n",
            "Epoch 3/3\n",
            "508/508 [==============================] - 44s 87ms/step - loss: 0.2500 - accuracy: 0.9057 - val_loss: 0.2345 - val_accuracy: 0.9104\n"
          ]
        },
        {
          "output_type": "stream",
          "name": "stderr",
          "text": [
            "\r 93%|█████████▎| 26/28 [1:38:33<06:18, 189.28s/it]"
          ]
        },
        {
          "output_type": "stream",
          "name": "stdout",
          "text": [
            "Downloading data from https://storage.googleapis.com/tensorflow/keras-applications/vgg19/vgg19_weights_tf_dim_ordering_tf_kernels_notop.h5\n",
            "80142336/80134624 [==============================] - 0s 0us/step\n",
            "80150528/80134624 [==============================] - 0s 0us/step\n",
            "Epoch 1/3\n",
            "508/508 [==============================] - 53s 104ms/step - loss: 0.4809 - accuracy: 0.7992 - val_loss: 0.3686 - val_accuracy: 0.8600\n",
            "Epoch 2/3\n",
            "508/508 [==============================] - 52s 103ms/step - loss: 0.3320 - accuracy: 0.8741 - val_loss: 0.3034 - val_accuracy: 0.8842\n",
            "Epoch 3/3\n",
            "508/508 [==============================] - 52s 103ms/step - loss: 0.2896 - accuracy: 0.8883 - val_loss: 0.2732 - val_accuracy: 0.8950\n"
          ]
        },
        {
          "output_type": "stream",
          "name": "stderr",
          "text": [
            "\r 96%|█████████▋| 27/28 [1:41:12<03:00, 180.21s/it]"
          ]
        },
        {
          "output_type": "stream",
          "name": "stdout",
          "text": [
            "Downloading data from https://storage.googleapis.com/tensorflow/keras-applications/xception/xception_weights_tf_dim_ordering_tf_kernels_notop.h5\n",
            "83689472/83683744 [==============================] - 2s 0us/step\n",
            "83697664/83683744 [==============================] - 2s 0us/step\n",
            "Epoch 1/3\n",
            "508/508 [==============================] - 58s 109ms/step - loss: 0.0499 - accuracy: 0.9836 - val_loss: 0.0363 - val_accuracy: 0.9868\n",
            "Epoch 2/3\n",
            "508/508 [==============================] - 53s 104ms/step - loss: 0.0315 - accuracy: 0.9893 - val_loss: 0.0316 - val_accuracy: 0.9881\n",
            "Epoch 3/3\n",
            "508/508 [==============================] - 53s 104ms/step - loss: 0.0275 - accuracy: 0.9910 - val_loss: 0.0326 - val_accuracy: 0.9880\n"
          ]
        },
        {
          "output_type": "stream",
          "name": "stderr",
          "text": [
            "100%|██████████| 28/28 [1:44:00<00:00, 222.88s/it]\n"
          ]
        }
      ]
    },
    {
      "cell_type": "code",
      "source": [
        "# Convert Results to DataFrame for easy viewing\n",
        "benchmark_df = pd.DataFrame(model_benchmarks)\n",
        "benchmark_df.sort_values('num_model_params', inplace=True) # sort in ascending order of num_model_params column\n",
        "benchmark_df.to_csv('benchmark_df.csv', index=False) # write results to csv file\n",
        "benchmark_df"
      ],
      "metadata": {
        "id": "dqMo_IfnwT3w",
        "colab": {
          "base_uri": "https://localhost:8080/",
          "height": 927
        },
        "outputId": "ae37329f-0461-4f24-e994-6d5b9080b793"
      },
      "execution_count": 8,
      "outputs": [
        {
          "output_type": "execute_result",
          "data": {
            "text/html": [
              "\n",
              "  <div id=\"df-6b8f088e-d5a2-46e6-8c8e-6d895f464619\">\n",
              "    <div class=\"colab-df-container\">\n",
              "      <div>\n",
              "<style scoped>\n",
              "    .dataframe tbody tr th:only-of-type {\n",
              "        vertical-align: middle;\n",
              "    }\n",
              "\n",
              "    .dataframe tbody tr th {\n",
              "        vertical-align: top;\n",
              "    }\n",
              "\n",
              "    .dataframe thead th {\n",
              "        text-align: right;\n",
              "    }\n",
              "</style>\n",
              "<table border=\"1\" class=\"dataframe\">\n",
              "  <thead>\n",
              "    <tr style=\"text-align: right;\">\n",
              "      <th></th>\n",
              "      <th>model_name</th>\n",
              "      <th>num_model_params</th>\n",
              "      <th>validation_accuracy</th>\n",
              "      <th>train_time</th>\n",
              "    </tr>\n",
              "  </thead>\n",
              "  <tbody>\n",
              "    <tr>\n",
              "      <th>16</th>\n",
              "      <td>MobileNetV3Small</td>\n",
              "      <td>1529968</td>\n",
              "      <td>0.629317</td>\n",
              "      <td>58.746547</td>\n",
              "    </tr>\n",
              "    <tr>\n",
              "      <th>14</th>\n",
              "      <td>MobileNetV2</td>\n",
              "      <td>2257984</td>\n",
              "      <td>0.984095</td>\n",
              "      <td>62.387651</td>\n",
              "    </tr>\n",
              "    <tr>\n",
              "      <th>13</th>\n",
              "      <td>MobileNet</td>\n",
              "      <td>3228864</td>\n",
              "      <td>0.987964</td>\n",
              "      <td>54.216135</td>\n",
              "    </tr>\n",
              "    <tr>\n",
              "      <th>3</th>\n",
              "      <td>EfficientNetB0</td>\n",
              "      <td>4049571</td>\n",
              "      <td>0.504370</td>\n",
              "      <td>92.572814</td>\n",
              "    </tr>\n",
              "    <tr>\n",
              "      <th>15</th>\n",
              "      <td>MobileNetV3Large</td>\n",
              "      <td>4226432</td>\n",
              "      <td>0.610403</td>\n",
              "      <td>65.701440</td>\n",
              "    </tr>\n",
              "    <tr>\n",
              "      <th>18</th>\n",
              "      <td>NASNetMobile</td>\n",
              "      <td>4269716</td>\n",
              "      <td>0.989253</td>\n",
              "      <td>132.241885</td>\n",
              "    </tr>\n",
              "    <tr>\n",
              "      <th>4</th>\n",
              "      <td>EfficientNetB1</td>\n",
              "      <td>6575239</td>\n",
              "      <td>0.503797</td>\n",
              "      <td>128.118685</td>\n",
              "    </tr>\n",
              "    <tr>\n",
              "      <th>0</th>\n",
              "      <td>DenseNet121</td>\n",
              "      <td>7037504</td>\n",
              "      <td>0.986818</td>\n",
              "      <td>135.261399</td>\n",
              "    </tr>\n",
              "    <tr>\n",
              "      <th>5</th>\n",
              "      <td>EfficientNetB2</td>\n",
              "      <td>7768569</td>\n",
              "      <td>0.518699</td>\n",
              "      <td>132.646766</td>\n",
              "    </tr>\n",
              "    <tr>\n",
              "      <th>6</th>\n",
              "      <td>EfficientNetB3</td>\n",
              "      <td>10783535</td>\n",
              "      <td>0.560539</td>\n",
              "      <td>164.709321</td>\n",
              "    </tr>\n",
              "    <tr>\n",
              "      <th>1</th>\n",
              "      <td>DenseNet169</td>\n",
              "      <td>12642880</td>\n",
              "      <td>0.989970</td>\n",
              "      <td>164.018553</td>\n",
              "    </tr>\n",
              "    <tr>\n",
              "      <th>25</th>\n",
              "      <td>VGG16</td>\n",
              "      <td>14714688</td>\n",
              "      <td>0.910446</td>\n",
              "      <td>139.249737</td>\n",
              "    </tr>\n",
              "    <tr>\n",
              "      <th>7</th>\n",
              "      <td>EfficientNetB4</td>\n",
              "      <td>17673823</td>\n",
              "      <td>0.496203</td>\n",
              "      <td>216.406844</td>\n",
              "    </tr>\n",
              "    <tr>\n",
              "      <th>2</th>\n",
              "      <td>DenseNet201</td>\n",
              "      <td>18321984</td>\n",
              "      <td>0.990830</td>\n",
              "      <td>207.467661</td>\n",
              "    </tr>\n",
              "    <tr>\n",
              "      <th>26</th>\n",
              "      <td>VGG19</td>\n",
              "      <td>20024384</td>\n",
              "      <td>0.894971</td>\n",
              "      <td>159.030699</td>\n",
              "    </tr>\n",
              "    <tr>\n",
              "      <th>27</th>\n",
              "      <td>Xception</td>\n",
              "      <td>20861480</td>\n",
              "      <td>0.987964</td>\n",
              "      <td>167.871957</td>\n",
              "    </tr>\n",
              "    <tr>\n",
              "      <th>12</th>\n",
              "      <td>InceptionV3</td>\n",
              "      <td>21802784</td>\n",
              "      <td>0.989110</td>\n",
              "      <td>103.486946</td>\n",
              "    </tr>\n",
              "    <tr>\n",
              "      <th>24</th>\n",
              "      <td>ResNet50V2</td>\n",
              "      <td>23564800</td>\n",
              "      <td>0.985385</td>\n",
              "      <td>126.263654</td>\n",
              "    </tr>\n",
              "    <tr>\n",
              "      <th>23</th>\n",
              "      <td>ResNet50</td>\n",
              "      <td>23587712</td>\n",
              "      <td>0.653532</td>\n",
              "      <td>121.711405</td>\n",
              "    </tr>\n",
              "    <tr>\n",
              "      <th>8</th>\n",
              "      <td>EfficientNetB5</td>\n",
              "      <td>28513527</td>\n",
              "      <td>0.523714</td>\n",
              "      <td>310.975954</td>\n",
              "    </tr>\n",
              "    <tr>\n",
              "      <th>9</th>\n",
              "      <td>EfficientNetB6</td>\n",
              "      <td>40960143</td>\n",
              "      <td>0.587047</td>\n",
              "      <td>388.886424</td>\n",
              "    </tr>\n",
              "    <tr>\n",
              "      <th>20</th>\n",
              "      <td>ResNet101V2</td>\n",
              "      <td>42626560</td>\n",
              "      <td>0.988394</td>\n",
              "      <td>203.516755</td>\n",
              "    </tr>\n",
              "    <tr>\n",
              "      <th>19</th>\n",
              "      <td>ResNet101</td>\n",
              "      <td>42658176</td>\n",
              "      <td>0.676171</td>\n",
              "      <td>202.489907</td>\n",
              "    </tr>\n",
              "    <tr>\n",
              "      <th>11</th>\n",
              "      <td>InceptionResNetV2</td>\n",
              "      <td>54336736</td>\n",
              "      <td>0.992979</td>\n",
              "      <td>247.247309</td>\n",
              "    </tr>\n",
              "    <tr>\n",
              "      <th>22</th>\n",
              "      <td>ResNet152V2</td>\n",
              "      <td>58331648</td>\n",
              "      <td>0.987821</td>\n",
              "      <td>343.283145</td>\n",
              "    </tr>\n",
              "    <tr>\n",
              "      <th>21</th>\n",
              "      <td>ResNet152</td>\n",
              "      <td>58370944</td>\n",
              "      <td>0.672589</td>\n",
              "      <td>288.586256</td>\n",
              "    </tr>\n",
              "    <tr>\n",
              "      <th>10</th>\n",
              "      <td>EfficientNetB7</td>\n",
              "      <td>64097687</td>\n",
              "      <td>0.496203</td>\n",
              "      <td>552.720404</td>\n",
              "    </tr>\n",
              "    <tr>\n",
              "      <th>17</th>\n",
              "      <td>NASNetLarge</td>\n",
              "      <td>84916818</td>\n",
              "      <td>0.994555</td>\n",
              "      <td>1270.618412</td>\n",
              "    </tr>\n",
              "  </tbody>\n",
              "</table>\n",
              "</div>\n",
              "      <button class=\"colab-df-convert\" onclick=\"convertToInteractive('df-6b8f088e-d5a2-46e6-8c8e-6d895f464619')\"\n",
              "              title=\"Convert this dataframe to an interactive table.\"\n",
              "              style=\"display:none;\">\n",
              "        \n",
              "  <svg xmlns=\"http://www.w3.org/2000/svg\" height=\"24px\"viewBox=\"0 0 24 24\"\n",
              "       width=\"24px\">\n",
              "    <path d=\"M0 0h24v24H0V0z\" fill=\"none\"/>\n",
              "    <path d=\"M18.56 5.44l.94 2.06.94-2.06 2.06-.94-2.06-.94-.94-2.06-.94 2.06-2.06.94zm-11 1L8.5 8.5l.94-2.06 2.06-.94-2.06-.94L8.5 2.5l-.94 2.06-2.06.94zm10 10l.94 2.06.94-2.06 2.06-.94-2.06-.94-.94-2.06-.94 2.06-2.06.94z\"/><path d=\"M17.41 7.96l-1.37-1.37c-.4-.4-.92-.59-1.43-.59-.52 0-1.04.2-1.43.59L10.3 9.45l-7.72 7.72c-.78.78-.78 2.05 0 2.83L4 21.41c.39.39.9.59 1.41.59.51 0 1.02-.2 1.41-.59l7.78-7.78 2.81-2.81c.8-.78.8-2.07 0-2.86zM5.41 20L4 18.59l7.72-7.72 1.47 1.35L5.41 20z\"/>\n",
              "  </svg>\n",
              "      </button>\n",
              "      \n",
              "  <style>\n",
              "    .colab-df-container {\n",
              "      display:flex;\n",
              "      flex-wrap:wrap;\n",
              "      gap: 12px;\n",
              "    }\n",
              "\n",
              "    .colab-df-convert {\n",
              "      background-color: #E8F0FE;\n",
              "      border: none;\n",
              "      border-radius: 50%;\n",
              "      cursor: pointer;\n",
              "      display: none;\n",
              "      fill: #1967D2;\n",
              "      height: 32px;\n",
              "      padding: 0 0 0 0;\n",
              "      width: 32px;\n",
              "    }\n",
              "\n",
              "    .colab-df-convert:hover {\n",
              "      background-color: #E2EBFA;\n",
              "      box-shadow: 0px 1px 2px rgba(60, 64, 67, 0.3), 0px 1px 3px 1px rgba(60, 64, 67, 0.15);\n",
              "      fill: #174EA6;\n",
              "    }\n",
              "\n",
              "    [theme=dark] .colab-df-convert {\n",
              "      background-color: #3B4455;\n",
              "      fill: #D2E3FC;\n",
              "    }\n",
              "\n",
              "    [theme=dark] .colab-df-convert:hover {\n",
              "      background-color: #434B5C;\n",
              "      box-shadow: 0px 1px 3px 1px rgba(0, 0, 0, 0.15);\n",
              "      filter: drop-shadow(0px 1px 2px rgba(0, 0, 0, 0.3));\n",
              "      fill: #FFFFFF;\n",
              "    }\n",
              "  </style>\n",
              "\n",
              "      <script>\n",
              "        const buttonEl =\n",
              "          document.querySelector('#df-6b8f088e-d5a2-46e6-8c8e-6d895f464619 button.colab-df-convert');\n",
              "        buttonEl.style.display =\n",
              "          google.colab.kernel.accessAllowed ? 'block' : 'none';\n",
              "\n",
              "        async function convertToInteractive(key) {\n",
              "          const element = document.querySelector('#df-6b8f088e-d5a2-46e6-8c8e-6d895f464619');\n",
              "          const dataTable =\n",
              "            await google.colab.kernel.invokeFunction('convertToInteractive',\n",
              "                                                     [key], {});\n",
              "          if (!dataTable) return;\n",
              "\n",
              "          const docLinkHtml = 'Like what you see? Visit the ' +\n",
              "            '<a target=\"_blank\" href=https://colab.research.google.com/notebooks/data_table.ipynb>data table notebook</a>'\n",
              "            + ' to learn more about interactive tables.';\n",
              "          element.innerHTML = '';\n",
              "          dataTable['output_type'] = 'display_data';\n",
              "          await google.colab.output.renderOutput(dataTable, element);\n",
              "          const docLink = document.createElement('div');\n",
              "          docLink.innerHTML = docLinkHtml;\n",
              "          element.appendChild(docLink);\n",
              "        }\n",
              "      </script>\n",
              "    </div>\n",
              "  </div>\n",
              "  "
            ],
            "text/plain": [
              "           model_name  num_model_params  validation_accuracy   train_time\n",
              "16   MobileNetV3Small           1529968             0.629317    58.746547\n",
              "14        MobileNetV2           2257984             0.984095    62.387651\n",
              "13          MobileNet           3228864             0.987964    54.216135\n",
              "3      EfficientNetB0           4049571             0.504370    92.572814\n",
              "15   MobileNetV3Large           4226432             0.610403    65.701440\n",
              "18       NASNetMobile           4269716             0.989253   132.241885\n",
              "4      EfficientNetB1           6575239             0.503797   128.118685\n",
              "0         DenseNet121           7037504             0.986818   135.261399\n",
              "5      EfficientNetB2           7768569             0.518699   132.646766\n",
              "6      EfficientNetB3          10783535             0.560539   164.709321\n",
              "1         DenseNet169          12642880             0.989970   164.018553\n",
              "25              VGG16          14714688             0.910446   139.249737\n",
              "7      EfficientNetB4          17673823             0.496203   216.406844\n",
              "2         DenseNet201          18321984             0.990830   207.467661\n",
              "26              VGG19          20024384             0.894971   159.030699\n",
              "27           Xception          20861480             0.987964   167.871957\n",
              "12        InceptionV3          21802784             0.989110   103.486946\n",
              "24         ResNet50V2          23564800             0.985385   126.263654\n",
              "23           ResNet50          23587712             0.653532   121.711405\n",
              "8      EfficientNetB5          28513527             0.523714   310.975954\n",
              "9      EfficientNetB6          40960143             0.587047   388.886424\n",
              "20        ResNet101V2          42626560             0.988394   203.516755\n",
              "19          ResNet101          42658176             0.676171   202.489907\n",
              "11  InceptionResNetV2          54336736             0.992979   247.247309\n",
              "22        ResNet152V2          58331648             0.987821   343.283145\n",
              "21          ResNet152          58370944             0.672589   288.586256\n",
              "10     EfficientNetB7          64097687             0.496203   552.720404\n",
              "17        NASNetLarge          84916818             0.994555  1270.618412"
            ]
          },
          "metadata": {},
          "execution_count": 8
        }
      ]
    },
    {
      "cell_type": "code",
      "source": [
        "# Loop over each row and plot the num_model_params vs validation_accuracy\n",
        "markers=[\".\",\",\",\"o\",\"v\",\"^\",\"<\",\">\",\"1\",\"2\",\"3\",\"4\",\"8\",\"s\",\"p\",\"P\",\"*\",\"h\",\"H\",\"+\",\"x\",\"X\",\"D\",\"d\",\"|\",\"_\",4,5,6,7,8,9,10,11]\n",
        "plt.figure(figsize=(7,5))\n",
        "for row in benchmark_df.itertuples():\n",
        "    plt.scatter(row.num_model_params, row.validation_accuracy, label=row.model_name, marker=markers[row.Index], s=150, linewidths=2)\n",
        "plt.xscale('log')\n",
        "plt.xlabel('Number of Parameters in Model')\n",
        "plt.ylabel('Validation Accuracy after 3 Epochs')\n",
        "plt.title('Accuracy vs Model Size')\n",
        "plt.legend(bbox_to_anchor=(1, 1), loc='upper left'); # Move legend out of the plot"
      ],
      "metadata": {
        "id": "IhMMlS1gwXRs",
        "colab": {
          "base_uri": "https://localhost:8080/",
          "height": 475
        },
        "outputId": "929437cb-59fe-488b-98db-f5a562867dfc"
      },
      "execution_count": 9,
      "outputs": [
        {
          "output_type": "display_data",
          "data": {
            "image/png": "[encoded data removed]",
            "text/plain": [
              "<Figure size 504x360 with 1 Axes>"
            ]
          },
          "metadata": {
            "needs_background": "light"
          }
        }
      ]
    },
    {
      "cell_type": "code",
      "source": [
        "# Loop over each row and plot the train_time vs validation_accuracy\n",
        "markers=[\".\",\",\",\"o\",\"v\",\"^\",\"<\",\">\",\"1\",\"2\",\"3\",\"4\",\"8\",\"s\",\"p\",\"P\",\"*\",\"h\",\"H\",\"+\",\"x\",\"X\",\"D\",\"d\",\"|\",\"_\",4,5,6,7,8,9,10,11]\n",
        "plt.figure(figsize=(7,5))\n",
        "for row in benchmark_df.itertuples():\n",
        "    plt.scatter(row.train_time, row.validation_accuracy, label=row.model_name, marker=markers[row.Index], s=150, linewidths=2)\n",
        "plt.xscale('log')\n",
        "plt.xlabel('Training Time')\n",
        "plt.ylabel('Validation Accuracy after 3 Epochs')\n",
        "plt.title('Accuracy vs Training Time')\n",
        "plt.legend(bbox_to_anchor=(1, 1), loc='upper left'); # Move legend out of the plot"
      ],
      "metadata": {
        "id": "XMOPYj_Uxca_",
        "colab": {
          "base_uri": "https://localhost:8080/",
          "height": 475
        },
        "outputId": "9a0eb036-9d0b-475e-fdb0-a7533f2535f5"
      },
      "execution_count": 10,
      "outputs": [
        {
          "output_type": "display_data",
          "data": {
            "image/png": "[encoded data removed]",
            "text/plain": [
              "<Figure size 504x360 with 1 Axes>"
            ]
          },
          "metadata": {
            "needs_background": "light"
          }
        }
      ]
    }
  ]
}
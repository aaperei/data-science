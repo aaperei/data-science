{
  "nbformat": 4,
  "nbformat_minor": 0,
  "metadata": {
    "colab": {
      "name": "mlp-red-wine-quality-classification.ipynb",
      "provenance": [],
      "collapsed_sections": [],
      "authorship_tag": "ABX9TyPbSkverMLZ/yCkGdtxDIIU",
      "include_colab_link": true
    },
    "kernelspec": {
      "name": "python3",
      "display_name": "Python 3"
    },
    "language_info": {
      "name": "python"
    }
  },
  "cells": [
    {
      "cell_type": "markdown",
      "metadata": {
        "id": "view-in-github",
        "colab_type": "text"
      },
      "source": [
        "<a href=\"https://colab.research.google.com/github/aaperei/data-science/blob/main/mlp_red_wine_quality_classification.ipynb\" target=\"_parent\"><img src=\"https://colab.research.google.com/assets/colab-badge.svg\" alt=\"Open In Colab\"/></a>"
      ]
    },
    {
      "cell_type": "markdown",
      "metadata": {
        "id": "W7b1XW5--cal"
      },
      "source": [
        "# Classificação utilizando Rede Neural MLP -  Qualidade Vinho Tinto Português\n",
        "\n",
        "### Alison Augusto Miranda Pereira - UNIFESP - 2021\n",
        "\n",
        "## Descrição do problema\n",
        "O presente trabalho tem o objetivo de explorar o algoritmo de classificaçao da rede MPL, por meio dos dados de qualidade do vinho tinto português. A qualidade do vinho é um atributo influenciado por alguns parâmetros físicos, químicos e sensoriais. Além disso, a qualidade é definida por um número inteiro no intervalo de 0 a 10.\n",
        "\n",
        "Para a realização da classificação, utilizou-se o algoritmo original da rede neural MLP - SGD.\n",
        "\n",
        "Os dados utilizados neste experimento estão disponíveis no site Machine Learning Repository, através do endereço [https://archive.ics.uci.edu/ml/datasets/Wine+Quality](https://archive.ics.uci.edu/ml/datasets/Wine+Quality).\n",
        "\n",
        "A seguir, vamos importar o arquivo csv refente à qualidade do vinho tinto."
      ]
    },
    {
      "cell_type": "code",
      "metadata": {
        "colab": {
          "base_uri": "https://localhost:8080/",
          "height": 458
        },
        "id": "ejn5Oso0BmLL",
        "outputId": "5e4bb11c-c1ff-4e9d-9243-238f89fb9928"
      },
      "source": [
        "# load wine red csv file\n",
        "\n",
        "import pandas as pd\n",
        "import warnings\n",
        "\n",
        "warnings.filterwarnings('ignore')\n",
        "\n",
        "# import data from csv file\n",
        "wine_dataframe = pd.read_csv('winequality-red.csv', sep=';')\n",
        "\n",
        "wine_dataframe"
      ],
      "execution_count": 9,
      "outputs": [
        {
          "output_type": "execute_result",
          "data": {
            "text/html": [
              "<div>\n",
              "<style scoped>\n",
              "    .dataframe tbody tr th:only-of-type {\n",
              "        vertical-align: middle;\n",
              "    }\n",
              "\n",
              "    .dataframe tbody tr th {\n",
              "        vertical-align: top;\n",
              "    }\n",
              "\n",
              "    .dataframe thead th {\n",
              "        text-align: right;\n",
              "    }\n",
              "</style>\n",
              "<table border=\"1\" class=\"dataframe\">\n",
              "  <thead>\n",
              "    <tr style=\"text-align: right;\">\n",
              "      <th></th>\n",
              "      <th>fixed acidity</th>\n",
              "      <th>volatile acidity</th>\n",
              "      <th>citric acid</th>\n",
              "      <th>residual sugar</th>\n",
              "      <th>chlorides</th>\n",
              "      <th>free sulfur dioxide</th>\n",
              "      <th>total sulfur dioxide</th>\n",
              "      <th>density</th>\n",
              "      <th>pH</th>\n",
              "      <th>sulphates</th>\n",
              "      <th>alcohol</th>\n",
              "      <th>quality</th>\n",
              "    </tr>\n",
              "  </thead>\n",
              "  <tbody>\n",
              "    <tr>\n",
              "      <th>0</th>\n",
              "      <td>7.4</td>\n",
              "      <td>0.700</td>\n",
              "      <td>0.00</td>\n",
              "      <td>1.9</td>\n",
              "      <td>0.076</td>\n",
              "      <td>11.0</td>\n",
              "      <td>34.0</td>\n",
              "      <td>0.99780</td>\n",
              "      <td>3.51</td>\n",
              "      <td>0.56</td>\n",
              "      <td>9.4</td>\n",
              "      <td>5</td>\n",
              "    </tr>\n",
              "    <tr>\n",
              "      <th>1</th>\n",
              "      <td>7.8</td>\n",
              "      <td>0.880</td>\n",
              "      <td>0.00</td>\n",
              "      <td>2.6</td>\n",
              "      <td>0.098</td>\n",
              "      <td>25.0</td>\n",
              "      <td>67.0</td>\n",
              "      <td>0.99680</td>\n",
              "      <td>3.20</td>\n",
              "      <td>0.68</td>\n",
              "      <td>9.8</td>\n",
              "      <td>5</td>\n",
              "    </tr>\n",
              "    <tr>\n",
              "      <th>2</th>\n",
              "      <td>7.8</td>\n",
              "      <td>0.760</td>\n",
              "      <td>0.04</td>\n",
              "      <td>2.3</td>\n",
              "      <td>0.092</td>\n",
              "      <td>15.0</td>\n",
              "      <td>54.0</td>\n",
              "      <td>0.99700</td>\n",
              "      <td>3.26</td>\n",
              "      <td>0.65</td>\n",
              "      <td>9.8</td>\n",
              "      <td>5</td>\n",
              "    </tr>\n",
              "    <tr>\n",
              "      <th>3</th>\n",
              "      <td>11.2</td>\n",
              "      <td>0.280</td>\n",
              "      <td>0.56</td>\n",
              "      <td>1.9</td>\n",
              "      <td>0.075</td>\n",
              "      <td>17.0</td>\n",
              "      <td>60.0</td>\n",
              "      <td>0.99800</td>\n",
              "      <td>3.16</td>\n",
              "      <td>0.58</td>\n",
              "      <td>9.8</td>\n",
              "      <td>6</td>\n",
              "    </tr>\n",
              "    <tr>\n",
              "      <th>4</th>\n",
              "      <td>7.4</td>\n",
              "      <td>0.700</td>\n",
              "      <td>0.00</td>\n",
              "      <td>1.9</td>\n",
              "      <td>0.076</td>\n",
              "      <td>11.0</td>\n",
              "      <td>34.0</td>\n",
              "      <td>0.99780</td>\n",
              "      <td>3.51</td>\n",
              "      <td>0.56</td>\n",
              "      <td>9.4</td>\n",
              "      <td>5</td>\n",
              "    </tr>\n",
              "    <tr>\n",
              "      <th>...</th>\n",
              "      <td>...</td>\n",
              "      <td>...</td>\n",
              "      <td>...</td>\n",
              "      <td>...</td>\n",
              "      <td>...</td>\n",
              "      <td>...</td>\n",
              "      <td>...</td>\n",
              "      <td>...</td>\n",
              "      <td>...</td>\n",
              "      <td>...</td>\n",
              "      <td>...</td>\n",
              "      <td>...</td>\n",
              "    </tr>\n",
              "    <tr>\n",
              "      <th>1594</th>\n",
              "      <td>6.2</td>\n",
              "      <td>0.600</td>\n",
              "      <td>0.08</td>\n",
              "      <td>2.0</td>\n",
              "      <td>0.090</td>\n",
              "      <td>32.0</td>\n",
              "      <td>44.0</td>\n",
              "      <td>0.99490</td>\n",
              "      <td>3.45</td>\n",
              "      <td>0.58</td>\n",
              "      <td>10.5</td>\n",
              "      <td>5</td>\n",
              "    </tr>\n",
              "    <tr>\n",
              "      <th>1595</th>\n",
              "      <td>5.9</td>\n",
              "      <td>0.550</td>\n",
              "      <td>0.10</td>\n",
              "      <td>2.2</td>\n",
              "      <td>0.062</td>\n",
              "      <td>39.0</td>\n",
              "      <td>51.0</td>\n",
              "      <td>0.99512</td>\n",
              "      <td>3.52</td>\n",
              "      <td>0.76</td>\n",
              "      <td>11.2</td>\n",
              "      <td>6</td>\n",
              "    </tr>\n",
              "    <tr>\n",
              "      <th>1596</th>\n",
              "      <td>6.3</td>\n",
              "      <td>0.510</td>\n",
              "      <td>0.13</td>\n",
              "      <td>2.3</td>\n",
              "      <td>0.076</td>\n",
              "      <td>29.0</td>\n",
              "      <td>40.0</td>\n",
              "      <td>0.99574</td>\n",
              "      <td>3.42</td>\n",
              "      <td>0.75</td>\n",
              "      <td>11.0</td>\n",
              "      <td>6</td>\n",
              "    </tr>\n",
              "    <tr>\n",
              "      <th>1597</th>\n",
              "      <td>5.9</td>\n",
              "      <td>0.645</td>\n",
              "      <td>0.12</td>\n",
              "      <td>2.0</td>\n",
              "      <td>0.075</td>\n",
              "      <td>32.0</td>\n",
              "      <td>44.0</td>\n",
              "      <td>0.99547</td>\n",
              "      <td>3.57</td>\n",
              "      <td>0.71</td>\n",
              "      <td>10.2</td>\n",
              "      <td>5</td>\n",
              "    </tr>\n",
              "    <tr>\n",
              "      <th>1598</th>\n",
              "      <td>6.0</td>\n",
              "      <td>0.310</td>\n",
              "      <td>0.47</td>\n",
              "      <td>3.6</td>\n",
              "      <td>0.067</td>\n",
              "      <td>18.0</td>\n",
              "      <td>42.0</td>\n",
              "      <td>0.99549</td>\n",
              "      <td>3.39</td>\n",
              "      <td>0.66</td>\n",
              "      <td>11.0</td>\n",
              "      <td>6</td>\n",
              "    </tr>\n",
              "  </tbody>\n",
              "</table>\n",
              "<p>1599 rows × 12 columns</p>\n",
              "</div>"
            ],
            "text/plain": [
              "      fixed acidity  volatile acidity  citric acid  ...  sulphates  alcohol  quality\n",
              "0               7.4             0.700         0.00  ...       0.56      9.4        5\n",
              "1               7.8             0.880         0.00  ...       0.68      9.8        5\n",
              "2               7.8             0.760         0.04  ...       0.65      9.8        5\n",
              "3              11.2             0.280         0.56  ...       0.58      9.8        6\n",
              "4               7.4             0.700         0.00  ...       0.56      9.4        5\n",
              "...             ...               ...          ...  ...        ...      ...      ...\n",
              "1594            6.2             0.600         0.08  ...       0.58     10.5        5\n",
              "1595            5.9             0.550         0.10  ...       0.76     11.2        6\n",
              "1596            6.3             0.510         0.13  ...       0.75     11.0        6\n",
              "1597            5.9             0.645         0.12  ...       0.71     10.2        5\n",
              "1598            6.0             0.310         0.47  ...       0.66     11.0        6\n",
              "\n",
              "[1599 rows x 12 columns]"
            ]
          },
          "metadata": {},
          "execution_count": 9
        }
      ]
    },
    {
      "cell_type": "markdown",
      "metadata": {
        "id": "XAkr-c-cEkDH"
      },
      "source": [
        "## Preparação dos dados\n",
        "\n",
        "A seguir, é feito um pequeno tratamento e separação dos dados inicias em três fases: \n",
        "- Treinamento - 80%\n",
        "- Validação - 10%\n",
        "- Teste - 10%"
      ]
    },
    {
      "cell_type": "code",
      "metadata": {
        "id": "HRvv76oAFjA9"
      },
      "source": [
        "# Percentage used for training, validation and test\n",
        "train_perc = 0.8\n",
        "validation_perc=0.1\n",
        "test_perc = 0.1\n",
        "\n",
        "# -----------------------------------------------------------------------#\n",
        "# Split initial original dataframe in two (input and output) and convert to list format\n",
        "aux = wine_dataframe\n",
        "output_dataframe = aux['quality'].to_frame()\n",
        "input_dataframe = aux.drop(columns=['quality'])\n",
        "output_list = output_dataframe.values.tolist()\n",
        "input_list = input_dataframe.values.tolist()\n",
        "\n",
        "# -----------------------------------------------------------------------#\n",
        "# Split my data in three parts - Trainning, validation and Test\n",
        "number_of_samples = len(aux)\n",
        "index1 = int(train_perc * number_of_samples)\n",
        "index2 = int((train_perc + validation_perc) * number_of_samples)\n",
        "\n",
        "input_train = input_list[0:index1]\n",
        "input_validation = input_list[index1+1:index2]\n",
        "input_test = input_list[index2+1:]\n",
        "\n",
        "output_train = output_list[0:index1]\n",
        "output_validation = output_list[index1+1:index2]\n",
        "output_test = output_list[index2+1:]\n"
      ],
      "execution_count": 10,
      "outputs": []
    },
    {
      "cell_type": "markdown",
      "metadata": {
        "id": "ebvSMBWZ2nvZ"
      },
      "source": [
        "## Classificação utilizando MLP Classifier\n",
        "\n",
        "Optou-se por utilizar a implementação do classificador MLP da biblioteca python `scikit-learn`. Detalhes podem ser encontrados na documentação oficial disponível em [https://scikit-learn.org/stable/modules/generated/sklearn.neural_network.MLPClassifier.html](https://scikit-learn.org/stable/modules/generated/sklearn.neural_network.MLPClassifier.html).\n",
        "\n",
        "Iremos utilizar o algoritmo `SGD`, afim de testarmos o a interferência do parâmetro `momentum` no treinamento do modelo.\n",
        "\n",
        "A seguir é demonstrado como é feito o processo de treinamento e predição da rede MPL."
      ]
    },
    {
      "cell_type": "code",
      "metadata": {
        "colab": {
          "base_uri": "https://localhost:8080/"
        },
        "id": "iXfJpBv93Qdf",
        "outputId": "966bea6b-689c-46e8-885b-58fc0e47360a"
      },
      "source": [
        "from sklearn.neural_network import MLPClassifier\n",
        "\n",
        "# Function to calculate the model accuracy\n",
        "# Sklearn also offers a default method for the same purpose: MLPClassifier.score(x, y)\n",
        "def calculate_accuracy(input, expected_output):\n",
        "  predict = clf.predict(input)\n",
        "  sample_size = len(predict)\n",
        "  success = 0\n",
        "\n",
        "  for i in range(sample_size):\n",
        "    if(predict[i] == expected_output[i]):\n",
        "      success = success + 1\n",
        "\n",
        "  return success/sample_size\n",
        "\n",
        "# -----------------------------------------------------------------------#\n",
        "# Function to initilize the SGD MLP\n",
        "def create_sgd_mlp(momentum=0.9, alpha=0.0001, hidden_layer_sizes=(5,2)):\n",
        "  return MLPClassifier(solver='sgd', alpha=alpha, hidden_layer_sizes=hidden_layer_sizes, random_state=1, momentum=momentum)\n",
        "# -----------------------------------------------------------------------#\n",
        "# Train the MLP Classifier\n",
        "clf = create_sgd_mlp()\n",
        "clf.fit(input_train, output_train)\n",
        "\n",
        "# -----------------------------------------------------------------------#\n",
        "# Validate the MLP Classifier trainning\n",
        "accuracy_test_1 = calculate_accuracy(input_validation, output_validation)\n",
        "print(\"Accuracy for validation dataset = \", accuracy_test_1*100)"
      ],
      "execution_count": 11,
      "outputs": [
        {
          "output_type": "stream",
          "name": "stdout",
          "text": [
            "Accuracy for validation dataset =  51.57232704402516\n"
          ]
        }
      ]
    },
    {
      "cell_type": "markdown",
      "metadata": {
        "id": "LDpShvGkZBiM"
      },
      "source": [
        "## Termo de momentum\n",
        "\n",
        "O termo de momentum (informado durante a criação da minha rede neural MLP) é responsável por reduzir a incidência de instabilidade durante a fase de treinamento, por gerar uma inércia na descida do vetor gradiente. É um valor entre `0` e `1`, utilizado somente quando aplicamos o algoritmo SGD.\n",
        "\n",
        "A seguinte, é demonstrado o treinamento da rede MLP para os seguintes valores de momentum: `0.1, 0.2, 0.3,  0.4, 0.5, 0.6, 0.7, 0.8, 0.9 e 1.0`. \n",
        "\n",
        "Pelos gráfico, é fácil notarmos a interferência do `momentum` na acuração do modelo gerado. Para os dados de teste, a maior acurácia foi verificado com `momentum=0.9` (valor padrão assumido pelo sklearn)."
      ]
    },
    {
      "cell_type": "code",
      "metadata": {
        "colab": {
          "base_uri": "https://localhost:8080/",
          "height": 573
        },
        "id": "5-SZKicqcFnM",
        "outputId": "b044ab21-d804-4f75-d0e3-31659e8234d1"
      },
      "source": [
        "import matplotlib.pyplot as plt\n",
        "\n",
        "def plot_momentum(step, accuracy_momentum):\n",
        "  plt.plot(momentum_list, accuracy_momentum)\n",
        "  plt.title('Acurácia do modelo com a variação do momentum - Fase de {}'.format(step))\n",
        "  plt.xlabel('Momentum')\n",
        "  plt.ylabel('Acurácia')\n",
        "  plt.show()\n",
        "\n",
        "momentum_list = [0.1, 0.2, 0.3, 0.4, 0.5, 0.6, 0.7, 0.8, 0.9 , 1.0]\n",
        "range_momentum = range(len(momentum_list))\n",
        "accuracy_momentum_validation = list(range_momentum)\n",
        "accuracy_momentum_test = list(range_momentum)\n",
        "for i in range_momentum:\n",
        "  clf = create_sgd_mlp(momentum=momentum_list[i])\n",
        "  clf.fit(input_train, output_train)\n",
        "  accuracy_momentum_validation[i] = calculate_accuracy(input_validation, output_validation)*100\n",
        "  accuracy_momentum_test[i] = calculate_accuracy(input_test, output_test)*100\n",
        "\n",
        "plot_momentum(\"Validação\", accuracy_momentum_validation)\n",
        "plot_momentum(\"Teste\", accuracy_momentum_test)\n"
      ],
      "execution_count": 12,
      "outputs": [
        {
          "output_type": "display_data",
          "data": {
            "image/png": "[encoded data removed]",
            "text/plain": [
              "<Figure size 432x288 with 1 Axes>"
            ]
          },
          "metadata": {
            "needs_background": "light"
          }
        },
        {
          "output_type": "display_data",
          "data": {
            "image/png": "[encoded data removed]",
            "text/plain": [
              "<Figure size 432x288 with 1 Axes>"
            ]
          },
          "metadata": {
            "needs_background": "light"
          }
        }
      ]
    },
    {
      "cell_type": "markdown",
      "metadata": {
        "id": "_90DfOU9xK60"
      },
      "source": [
        "## Variando a regulação da MPL - paramêtro alpha\n",
        "\n",
        "`Alpha` é um parâmetro para o termo de regularização, também conhecido como termo de penalidade, que combate o *overfitting*  restringindo o tamanho dos pesos. O aumento de `alfa` pode corrigir a alta variância (um sinal de *overfitting*), incentivando pesos menores, resultando em um gráfico de limite de decisão que aparece com curvaturas menores. Da mesma forma, diminuir o parâmetro `alfa` pode corrigir um *bias* alto (um sinal de *underfitting*), incentivando pesos maiores, resultando potencialmente em um limite de decisão mais complexo.\n",
        "\n",
        "***Referência: [https://scikit-learn.org/stable/auto_examples/neural_networks/plot_mlp_alpha.html](https://scikit-learn.org/stable/auto_examples/neural_networks/plot_mlp_alpha.html)***\n",
        "\n",
        "Para o problema em questão, percebemos pelos gráficos abaixo que o parâmetro  `alpha` não possui grande interferência na acúrácia do modelo. Entretanto, ao elevarmos muito o valor de `alpha` temos uma pequena e abrupta queda no valor da acurácia. Devido a esse fator, seria melhor manter o valor padrão de `alpha` (0.0001)."
      ]
    },
    {
      "cell_type": "code",
      "metadata": {
        "colab": {
          "base_uri": "https://localhost:8080/",
          "height": 573
        },
        "id": "ODiqgOCRBGml",
        "outputId": "9860506f-ced0-4c6f-e943-bd4b27b1f8f1"
      },
      "source": [
        "import matplotlib.pyplot as plt\n",
        "\n",
        "def plot_alpha(step, accuracy_alpha):\n",
        "  plt.plot(alpha_list, accuracy_alpha)\n",
        "  plt.title('Acurácia do modelo com a variação de alpha - Fase de {}'.format(step))\n",
        "  plt.xlabel('Alpha')\n",
        "  plt.ylabel('Acurácia')\n",
        "  plt.show()\n",
        "\n",
        "alpha_list = [0.0, 0.0001, 0.0002, 0.0003, 1.5, 2.0, 2.5, 3.0, 3.5, 4.0 , 5.0, 6.0, 7.0, 8.0, 9.0, 10.0]\n",
        "range_alpha = range(len(alpha_list))\n",
        "accuracy_alpha_validation = list(range_alpha)\n",
        "accuracy_alpha_test = list(range_alpha)\n",
        "for i in range_alpha:\n",
        "  clf = create_sgd_mlp(alpha=alpha_list[i])\n",
        "  clf.fit(input_train, output_train)\n",
        "  accuracy_alpha_validation[i] = calculate_accuracy(input_validation, output_validation)*100\n",
        "  accuracy_alpha_test[i] = calculate_accuracy(input_test, output_test)*100\n",
        "\n",
        "plot_alpha(\"Validação\", accuracy_alpha_validation)\n",
        "plot_alpha(\"Teste\", accuracy_alpha_test)"
      ],
      "execution_count": 13,
      "outputs": [
        {
          "output_type": "display_data",
          "data": {
            "image/png": "[encoded data removed]",
            "text/plain": [
              "<Figure size 432x288 with 1 Axes>"
            ]
          },
          "metadata": {
            "needs_background": "light"
          }
        },
        {
          "output_type": "display_data",
          "data": {
            "image/png": "[encoded data removed]",
            "text/plain": [
              "<Figure size 432x288 with 1 Axes>"
            ]
          },
          "metadata": {
            "needs_background": "light"
          }
        }
      ]
    },
    {
      "cell_type": "markdown",
      "metadata": {
        "id": "7OpGGhuxL_Ru"
      },
      "source": [
        "## Variando a topologia da Rede MLP\n",
        "\n",
        "A seguir, vamos explorar diferentes topologias de rede para o problema em questão, utilizando os valores padrões de `alpha` e `momentum`.\n",
        "\n",
        "Topologias aplicadas:\n",
        "\n",
        "\n",
        "1. (5, 2)\n",
        "2. (2, 5)\n",
        "3. (2, 10)\n",
        "4. (10, 5)\n",
        "5. (5, 5)\n",
        "\n",
        "Dentre as topologias testadas, (1) e (5) foram as que apresentaram melhores resultados, conforme gráficos abaixo: "
      ]
    },
    {
      "cell_type": "code",
      "metadata": {
        "colab": {
          "base_uri": "https://localhost:8080/",
          "height": 542
        },
        "id": "a9mzzVarNM2e",
        "outputId": "37ed20d7-820b-4bb6-ed13-f769ed15f0f7"
      },
      "source": [
        "import matplotlib.pyplot as plt\n",
        "\n",
        "def plot_topol(step, accuracy_topol):\n",
        "  df = pd.DataFrame({'Tolopologia':['T-1', 'T-2', 'T-3', 'T-4', 'T-5'], 'Acurácia %':accuracy_topol})\n",
        "  ax = df.plot.bar(x='Tolopologia', y='Acurácia %', rot=0)\n",
        "\n",
        "\n",
        "topol_list = [(5,2), (2, 5), (2, 10), (10, 2), (5, 5)]\n",
        "range_topol = range(len(topol_list))\n",
        "accuracy_topol_validation = list(range_topol)\n",
        "accuracy_topol_test = list(range_topol)\n",
        "\n",
        "for i in range_topol:\n",
        "  clf = create_sgd_mlp(hidden_layer_sizes=topol_list[i])\n",
        "  clf.fit(input_train, output_train)\n",
        "  accuracy_topol_validation[i] = calculate_accuracy(input_validation, output_validation)*100\n",
        "  accuracy_topol_test[i] = calculate_accuracy(input_test, output_test)*100\n",
        "\n",
        "plot_topol(\"Validação\", accuracy_topol_validation)\n",
        "plot_topol(\"Teste\", accuracy_topol_test)"
      ],
      "execution_count": 14,
      "outputs": [
        {
          "output_type": "display_data",
          "data": {
            "image/png": "[encoded data removed]",
            "text/plain": [
              "<Figure size 432x288 with 1 Axes>"
            ]
          },
          "metadata": {
            "needs_background": "light"
          }
        },
        {
          "output_type": "display_data",
          "data": {
            "image/png": "[encoded data removed]",
            "text/plain": [
              "<Figure size 432x288 with 1 Axes>"
            ]
          },
          "metadata": {
            "needs_background": "light"
          }
        }
      ]
    }
  ]
}